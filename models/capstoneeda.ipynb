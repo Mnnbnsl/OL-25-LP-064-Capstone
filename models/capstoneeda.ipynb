{
 "cells": [
  {
   "cell_type": "code",
   "execution_count": null,
   "id": "118f0883",
   "metadata": {
    "_cell_guid": "b1076dfc-b9ad-4769-8c92-a6c4dae69d19",
    "_uuid": "8f2839f25d086af736a60e9eeb907d3b93b6e0e5",
    "execution": {
     "iopub.execute_input": "2025-08-03T12:49:28.263221Z",
     "iopub.status.busy": "2025-08-03T12:49:28.262888Z",
     "iopub.status.idle": "2025-08-03T12:49:32.663371Z",
     "shell.execute_reply": "2025-08-03T12:49:32.662326Z"
    },
    "papermill": {
     "duration": 4.409681,
     "end_time": "2025-08-03T12:49:32.665011",
     "exception": false,
     "start_time": "2025-08-03T12:49:28.255330",
     "status": "completed"
    },
    "tags": []
   },
   "outputs": [
    {
     "ename": "",
     "evalue": "",
     "output_type": "error",
     "traceback": [
      "\u001b[1;31mRunning cells with 'Python 3.11.7' requires the ipykernel package.\n",
      "\u001b[1;31m<a href='command:jupyter.createPythonEnvAndSelectController'>Create a Python Environment</a> with the required packages."
     ]
    }
   ],
   "source": [
    "import numpy as np\n",
    "import pandas as pd\n",
    "import matplotlib.pyplot as plt\n",
    "import seaborn as sns\n",
    "\n",
    "df = pd.read_csv('/kaggle/input/mental-health-in-tech-survey/survey.csv')\n",
    "print(\"DataFrame loaded\")"
   ]
  },
  {
   "cell_type": "code",
   "execution_count": null,
   "id": "9112a518",
   "metadata": {
    "execution": {
     "iopub.execute_input": "2025-08-03T12:49:32.676551Z",
     "iopub.status.busy": "2025-08-03T12:49:32.676187Z",
     "iopub.status.idle": "2025-08-03T12:49:32.724416Z",
     "shell.execute_reply": "2025-08-03T12:49:32.723596Z"
    },
    "papermill": {
     "duration": 0.056954,
     "end_time": "2025-08-03T12:49:32.727157",
     "exception": false,
     "start_time": "2025-08-03T12:49:32.670203",
     "status": "completed"
    },
    "tags": []
   },
   "outputs": [],
   "source": [
    "print(f'Shape : {df.shape}')\n",
    "print(f'Info : {df.info()}')\n",
    "print(f'Head : {df.head}')"
   ]
  },
  {
   "cell_type": "code",
   "execution_count": null,
   "id": "e29a3688",
   "metadata": {
    "execution": {
     "iopub.execute_input": "2025-08-03T12:49:32.738467Z",
     "iopub.status.busy": "2025-08-03T12:49:32.738159Z",
     "iopub.status.idle": "2025-08-03T12:49:32.752808Z",
     "shell.execute_reply": "2025-08-03T12:49:32.751718Z"
    },
    "papermill": {
     "duration": 0.021772,
     "end_time": "2025-08-03T12:49:32.754179",
     "exception": false,
     "start_time": "2025-08-03T12:49:32.732407",
     "status": "completed"
    },
    "tags": []
   },
   "outputs": [],
   "source": [
    "print(df.describe())"
   ]
  },
  {
   "cell_type": "code",
   "execution_count": null,
   "id": "bf1652e5",
   "metadata": {
    "execution": {
     "iopub.execute_input": "2025-08-03T12:49:32.765876Z",
     "iopub.status.busy": "2025-08-03T12:49:32.765391Z",
     "iopub.status.idle": "2025-08-03T12:49:32.774843Z",
     "shell.execute_reply": "2025-08-03T12:49:32.773590Z"
    },
    "papermill": {
     "duration": 0.016972,
     "end_time": "2025-08-03T12:49:32.776420",
     "exception": false,
     "start_time": "2025-08-03T12:49:32.759448",
     "status": "completed"
    },
    "tags": []
   },
   "outputs": [],
   "source": [
    "print(f'Total missing values : {df.isnull().sum()}')"
   ]
  },
  {
   "cell_type": "markdown",
   "id": "cfbff2a9",
   "metadata": {
    "papermill": {
     "duration": 0.005727,
     "end_time": "2025-08-03T12:49:32.788107",
     "exception": false,
     "start_time": "2025-08-03T12:49:32.782380",
     "status": "completed"
    },
    "tags": []
   },
   "source": [
    "This shows that \"comments\" and \"state\" missing values are more in number so they will hold very little value in our models."
   ]
  },
  {
   "cell_type": "code",
   "execution_count": null,
   "id": "173d735c",
   "metadata": {
    "execution": {
     "iopub.execute_input": "2025-08-03T12:49:32.799824Z",
     "iopub.status.busy": "2025-08-03T12:49:32.799353Z",
     "iopub.status.idle": "2025-08-03T12:49:32.810716Z",
     "shell.execute_reply": "2025-08-03T12:49:32.809475Z"
    },
    "papermill": {
     "duration": 0.019056,
     "end_time": "2025-08-03T12:49:32.812285",
     "exception": false,
     "start_time": "2025-08-03T12:49:32.793229",
     "status": "completed"
    },
    "tags": []
   },
   "outputs": [],
   "source": [
    "print(f\"Number of duplicate rows: {df.duplicated().sum()}\")"
   ]
  },
  {
   "cell_type": "code",
   "execution_count": null,
   "id": "bab0d855",
   "metadata": {
    "execution": {
     "iopub.execute_input": "2025-08-03T12:49:32.824102Z",
     "iopub.status.busy": "2025-08-03T12:49:32.823768Z",
     "iopub.status.idle": "2025-08-03T12:49:32.829169Z",
     "shell.execute_reply": "2025-08-03T12:49:32.828127Z"
    },
    "papermill": {
     "duration": 0.012866,
     "end_time": "2025-08-03T12:49:32.830428",
     "exception": false,
     "start_time": "2025-08-03T12:49:32.817562",
     "status": "completed"
    },
    "tags": []
   },
   "outputs": [],
   "source": [
    "features = df.columns\n",
    "print(features)"
   ]
  },
  {
   "cell_type": "code",
   "execution_count": null,
   "id": "599f28a1",
   "metadata": {
    "execution": {
     "iopub.execute_input": "2025-08-03T12:49:32.843045Z",
     "iopub.status.busy": "2025-08-03T12:49:32.842750Z",
     "iopub.status.idle": "2025-08-03T12:49:32.848113Z",
     "shell.execute_reply": "2025-08-03T12:49:32.847166Z"
    },
    "papermill": {
     "duration": 0.013668,
     "end_time": "2025-08-03T12:49:32.849464",
     "exception": false,
     "start_time": "2025-08-03T12:49:32.835796",
     "status": "completed"
    },
    "tags": []
   },
   "outputs": [],
   "source": [
    "extra_features = [\"Gender\", \"Country\", \"Timestamp\", \"Age\", \"state\",\"comments\"]\n",
    "cat_features = [feature for feature in features if feature not in extra_features]\n",
    "print(cat_features)"
   ]
  },
  {
   "cell_type": "code",
   "execution_count": null,
   "id": "6be2ed4e",
   "metadata": {
    "execution": {
     "iopub.execute_input": "2025-08-03T12:49:32.862281Z",
     "iopub.status.busy": "2025-08-03T12:49:32.861965Z",
     "iopub.status.idle": "2025-08-03T12:49:36.298156Z",
     "shell.execute_reply": "2025-08-03T12:49:36.297035Z"
    },
    "papermill": {
     "duration": 3.445299,
     "end_time": "2025-08-03T12:49:36.300278",
     "exception": false,
     "start_time": "2025-08-03T12:49:32.854979",
     "status": "completed"
    },
    "tags": []
   },
   "outputs": [],
   "source": [
    "for feature in cat_features:\n",
    "    plt.figure(figsize = (10,5))\n",
    "    sns.countplot(x = feature, data = df, order = df[feature].value_counts().index)\n",
    "    plt.title(f'Distribution of {feature}')\n",
    "    plt.xticks(rotation = 45)\n",
    "    plt.show()\n",
    "    "
   ]
  },
  {
   "cell_type": "code",
   "execution_count": null,
   "id": "b31f29b3",
   "metadata": {
    "execution": {
     "iopub.execute_input": "2025-08-03T12:49:36.334939Z",
     "iopub.status.busy": "2025-08-03T12:49:36.334594Z",
     "iopub.status.idle": "2025-08-03T12:49:36.357605Z",
     "shell.execute_reply": "2025-08-03T12:49:36.356290Z"
    },
    "papermill": {
     "duration": 0.04369,
     "end_time": "2025-08-03T12:49:36.360689",
     "exception": false,
     "start_time": "2025-08-03T12:49:36.316999",
     "status": "completed"
    },
    "tags": []
   },
   "outputs": [],
   "source": [
    "for feature in extra_features:\n",
    "    print(df[feature].value_counts())"
   ]
  },
  {
   "cell_type": "markdown",
   "id": "b7bb613c",
   "metadata": {
    "papermill": {
     "duration": 0.015711,
     "end_time": "2025-08-03T12:49:36.396738",
     "exception": false,
     "start_time": "2025-08-03T12:49:36.381027",
     "status": "completed"
    },
    "tags": []
   },
   "source": [
    "This clearly tells us that some columns like **Age** and **Gender** need to be cleaned. The **Timestamp** column and **Comments** column will make the model inefficient so they need to be removed.\n"
   ]
  },
  {
   "cell_type": "code",
   "execution_count": null,
   "id": "00174b73",
   "metadata": {
    "execution": {
     "iopub.execute_input": "2025-08-03T12:49:36.429284Z",
     "iopub.status.busy": "2025-08-03T12:49:36.429000Z",
     "iopub.status.idle": "2025-08-03T12:49:36.436370Z",
     "shell.execute_reply": "2025-08-03T12:49:36.435283Z"
    },
    "papermill": {
     "duration": 0.02568,
     "end_time": "2025-08-03T12:49:36.438082",
     "exception": false,
     "start_time": "2025-08-03T12:49:36.412402",
     "status": "completed"
    },
    "tags": []
   },
   "outputs": [],
   "source": [
    "drop_columns = [\"comments\", \"Timestamp\"]\n",
    "df.drop(columns = drop_columns, inplace = True)\n",
    "print(f\"shape : {df.shape}\")"
   ]
  },
  {
   "cell_type": "code",
   "execution_count": null,
   "id": "436f24c8",
   "metadata": {
    "execution": {
     "iopub.execute_input": "2025-08-03T12:49:36.473302Z",
     "iopub.status.busy": "2025-08-03T12:49:36.472973Z",
     "iopub.status.idle": "2025-08-03T12:49:36.481558Z",
     "shell.execute_reply": "2025-08-03T12:49:36.480457Z"
    },
    "papermill": {
     "duration": 0.02904,
     "end_time": "2025-08-03T12:49:36.483145",
     "exception": false,
     "start_time": "2025-08-03T12:49:36.454105",
     "status": "completed"
    },
    "tags": []
   },
   "outputs": [],
   "source": [
    "# Clean Age outliers\n",
    "df = df[(df['Age'] >= 18) & (df['Age'] <= 65)]\n",
    "print(f'shape : {df.shape}')"
   ]
  },
  {
   "cell_type": "code",
   "execution_count": null,
   "id": "9c2cd531",
   "metadata": {
    "execution": {
     "iopub.execute_input": "2025-08-03T12:49:36.517707Z",
     "iopub.status.busy": "2025-08-03T12:49:36.517357Z",
     "iopub.status.idle": "2025-08-03T12:49:36.527000Z",
     "shell.execute_reply": "2025-08-03T12:49:36.525829Z"
    },
    "papermill": {
     "duration": 0.029532,
     "end_time": "2025-08-03T12:49:36.528688",
     "exception": false,
     "start_time": "2025-08-03T12:49:36.499156",
     "status": "completed"
    },
    "tags": []
   },
   "outputs": [],
   "source": [
    "# Fix Gender column\n",
    "# instead of keeping many entries we will classify them in 'male', 'female' and 'other/non-binary'\n",
    "\n",
    "def clean_gender(gender):\n",
    "    if not isinstance(gender, str): \n",
    "        return 'Other/Non-Binary'\n",
    "    g = gender.lower()\n",
    "    if 'fem' in g or 'wom' in g or g == 'f':\n",
    "        return 'Female'\n",
    "    elif 'mal' in g or 'man' in g or g == 'm' or 'guy' in g:\n",
    "        return 'Male'\n",
    "    else :\n",
    "        return 'Other/Non-Binary'\n",
    "df['Gender'] = df['Gender'].apply(clean_gender)\n",
    "print(df['Gender'].value_counts())"
   ]
  },
  {
   "cell_type": "code",
   "execution_count": null,
   "id": "a4005b57",
   "metadata": {
    "execution": {
     "iopub.execute_input": "2025-08-03T12:49:36.563245Z",
     "iopub.status.busy": "2025-08-03T12:49:36.562944Z",
     "iopub.status.idle": "2025-08-03T12:49:36.574063Z",
     "shell.execute_reply": "2025-08-03T12:49:36.572944Z"
    },
    "papermill": {
     "duration": 0.032036,
     "end_time": "2025-08-03T12:49:36.576986",
     "exception": false,
     "start_time": "2025-08-03T12:49:36.544950",
     "status": "completed"
    },
    "tags": []
   },
   "outputs": [],
   "source": [
    "extra_features = [feature for feature in extra_features if feature not in ['comments','Timestamp']]\n",
    "for feature in extra_features:\n",
    "    print(df[feature].value_counts())"
   ]
  },
  {
   "cell_type": "code",
   "execution_count": null,
   "id": "150cdad6",
   "metadata": {
    "execution": {
     "iopub.execute_input": "2025-08-03T12:49:36.612919Z",
     "iopub.status.busy": "2025-08-03T12:49:36.612575Z",
     "iopub.status.idle": "2025-08-03T12:49:36.784939Z",
     "shell.execute_reply": "2025-08-03T12:49:36.783834Z"
    },
    "papermill": {
     "duration": 0.192455,
     "end_time": "2025-08-03T12:49:36.786682",
     "exception": false,
     "start_time": "2025-08-03T12:49:36.594227",
     "status": "completed"
    },
    "tags": []
   },
   "outputs": [],
   "source": [
    "plt.figure(figsize = (10,5))\n",
    "sns.countplot(x = 'Gender', data = df, order = df['Gender'].value_counts().index)\n",
    "plt.title(f'Distribution of Gender')\n",
    "plt.xticks(rotation = 45)\n",
    "plt.show()\n",
    "    "
   ]
  },
  {
   "cell_type": "code",
   "execution_count": null,
   "id": "7e903da1",
   "metadata": {
    "execution": {
     "iopub.execute_input": "2025-08-03T12:49:36.822145Z",
     "iopub.status.busy": "2025-08-03T12:49:36.821795Z",
     "iopub.status.idle": "2025-08-03T12:49:37.242515Z",
     "shell.execute_reply": "2025-08-03T12:49:37.241552Z"
    },
    "papermill": {
     "duration": 0.441232,
     "end_time": "2025-08-03T12:49:37.244282",
     "exception": false,
     "start_time": "2025-08-03T12:49:36.803050",
     "status": "completed"
    },
    "tags": []
   },
   "outputs": [],
   "source": [
    "plt.figure(figsize = (10,5))\n",
    "age_order = sorted(df['Age'].unique())\n",
    "sns.countplot(x = 'Age', data = df, order = age_order)\n",
    "plt.title(f'Distribution of Age')\n",
    "plt.xticks(rotation = 45)\n",
    "plt.show()\n",
    "    "
   ]
  },
  {
   "cell_type": "markdown",
   "id": "a7ec69f1",
   "metadata": {
    "papermill": {
     "duration": 0.016305,
     "end_time": "2025-08-03T12:49:37.277945",
     "exception": false,
     "start_time": "2025-08-03T12:49:37.261640",
     "status": "completed"
    },
    "tags": []
   },
   "source": [
    "So far, we have dropped columns - 'Timestamp' and 'comments'. cleaned columns like 'Age' and 'Gender'. \n",
    "From the univariate analysis it can be seen that most of the respondants in out dataset are between the age group of 20 to 46. The number of males is significantly higher than the other two categories which suggest that mental wellness is a problem common amongst males."
   ]
  },
  {
   "cell_type": "code",
   "execution_count": null,
   "id": "3ea32711",
   "metadata": {
    "execution": {
     "iopub.execute_input": "2025-08-03T12:49:37.316292Z",
     "iopub.status.busy": "2025-08-03T12:49:37.315934Z",
     "iopub.status.idle": "2025-08-03T12:49:37.321901Z",
     "shell.execute_reply": "2025-08-03T12:49:37.320862Z"
    },
    "papermill": {
     "duration": 0.027487,
     "end_time": "2025-08-03T12:49:37.323787",
     "exception": false,
     "start_time": "2025-08-03T12:49:37.296300",
     "status": "completed"
    },
    "tags": []
   },
   "outputs": [],
   "source": [
    "# Final columns\n",
    "print(df.columns)"
   ]
  },
  {
   "cell_type": "code",
   "execution_count": null,
   "id": "f265c16e",
   "metadata": {
    "execution": {
     "iopub.execute_input": "2025-08-03T12:49:37.362436Z",
     "iopub.status.busy": "2025-08-03T12:49:37.362085Z",
     "iopub.status.idle": "2025-08-03T12:49:37.546175Z",
     "shell.execute_reply": "2025-08-03T12:49:37.544695Z"
    },
    "papermill": {
     "duration": 0.205441,
     "end_time": "2025-08-03T12:49:37.548311",
     "exception": false,
     "start_time": "2025-08-03T12:49:37.342870",
     "status": "completed"
    },
    "tags": []
   },
   "outputs": [],
   "source": [
    "sns.countplot(x='family_history', hue='treatment', data=df)\n",
    "plt.title('Treatment Status by Family History')\n",
    "plt.show()"
   ]
  },
  {
   "cell_type": "code",
   "execution_count": null,
   "id": "48a7ef2d",
   "metadata": {
    "execution": {
     "iopub.execute_input": "2025-08-03T12:49:37.587081Z",
     "iopub.status.busy": "2025-08-03T12:49:37.586676Z",
     "iopub.status.idle": "2025-08-03T12:49:37.986035Z",
     "shell.execute_reply": "2025-08-03T12:49:37.984539Z"
    },
    "papermill": {
     "duration": 0.421092,
     "end_time": "2025-08-03T12:49:37.988093",
     "exception": false,
     "start_time": "2025-08-03T12:49:37.567001",
     "status": "completed"
    },
    "tags": []
   },
   "outputs": [],
   "source": [
    "plt.figure(figsize=(10, 7))\n",
    "sns.violinplot(\n",
    "    x='treatment',\n",
    "    y='Age',\n",
    "    data=df,\n",
    "    palette='viridis'\n",
    ")\n",
    "plt.title('Age Distribution for Respondents With and Without Treatment', fontsize=16)\n",
    "plt.xlabel('Sought Treatment?', fontsize=12)\n",
    "plt.ylabel('Age', fontsize=12)\n",
    "plt.show()"
   ]
  },
  {
   "cell_type": "code",
   "execution_count": null,
   "id": "e62678e1",
   "metadata": {
    "execution": {
     "iopub.execute_input": "2025-08-03T12:49:38.028637Z",
     "iopub.status.busy": "2025-08-03T12:49:38.028300Z",
     "iopub.status.idle": "2025-08-03T12:49:38.345896Z",
     "shell.execute_reply": "2025-08-03T12:49:38.344343Z"
    },
    "papermill": {
     "duration": 0.339777,
     "end_time": "2025-08-03T12:49:38.347937",
     "exception": false,
     "start_time": "2025-08-03T12:49:38.008160",
     "status": "completed"
    },
    "tags": []
   },
   "outputs": [],
   "source": [
    "contingency_table = pd.crosstab(df['work_interfere'], df['mental_health_consequence'])\n",
    "\n",
    "# Reorder the columns and rows for a more logical flow\n",
    "ordered_rows = ['Never', 'Rarely', 'Sometimes', 'Often']\n",
    "ordered_cols = ['No', 'Maybe', 'Yes']\n",
    "contingency_table = contingency_table.reindex(ordered_rows).reindex(ordered_cols, axis=1)\n",
    "\n",
    "\n",
    "plt.figure(figsize=(12, 8))\n",
    "sns.heatmap(\n",
    "    contingency_table,\n",
    "    annot=True,      \n",
    "    fmt='d',         \n",
    "    cmap='YlGnBu',   \n",
    "    linewidths=.5\n",
    ")\n",
    "plt.title('Heatmap of Work Interference vs. Perceived Mental Health Consequences', fontsize=16)\n",
    "plt.xlabel('Perceived Mental Health Consequence', fontsize=12)\n",
    "plt.ylabel('Work Interference', fontsize=12)\n",
    "plt.show()"
   ]
  },
  {
   "cell_type": "code",
   "execution_count": null,
   "id": "bf27d43f",
   "metadata": {
    "execution": {
     "iopub.execute_input": "2025-08-03T12:49:38.395539Z",
     "iopub.status.busy": "2025-08-03T12:49:38.395211Z",
     "iopub.status.idle": "2025-08-03T12:49:39.137416Z",
     "shell.execute_reply": "2025-08-03T12:49:39.136289Z"
    },
    "papermill": {
     "duration": 0.766887,
     "end_time": "2025-08-03T12:49:39.139016",
     "exception": false,
     "start_time": "2025-08-03T12:49:38.372129",
     "status": "completed"
    },
    "tags": []
   },
   "outputs": [],
   "source": [
    "g = sns.catplot(\n",
    "    x='treatment',\n",
    "    col='tech_company', # Creates separate columns for 'Yes' and 'No' in tech_company\n",
    "    hue='work_interfere',\n",
    "    hue_order=ordered_rows, # Use the logical order we defined earlier\n",
    "    data=df,\n",
    "    kind='count', # Creates a count plot\n",
    "    height=6,\n",
    "    aspect=0.8,\n",
    "    palette='magma'\n",
    ")\n",
    "g.fig.suptitle('Treatment Count by Work Interference, Split by Company Type', y=1.03, fontsize=16)\n",
    "g.set_axis_labels('Sought Treatment?', 'Number of Respondents')\n",
    "g.set_titles(\"Tech Company: {col_name}\")\n",
    "plt.show()"
   ]
  },
  {
   "cell_type": "code",
   "execution_count": null,
   "id": "683d0ac8",
   "metadata": {
    "execution": {
     "iopub.execute_input": "2025-08-03T12:49:39.184398Z",
     "iopub.status.busy": "2025-08-03T12:49:39.183687Z",
     "iopub.status.idle": "2025-08-03T12:49:40.307352Z",
     "shell.execute_reply": "2025-08-03T12:49:40.306280Z"
    },
    "papermill": {
     "duration": 1.147533,
     "end_time": "2025-08-03T12:49:40.309377",
     "exception": false,
     "start_time": "2025-08-03T12:49:39.161844",
     "status": "completed"
    },
    "tags": []
   },
   "outputs": [],
   "source": [
    "policy_columns = [\n",
    "    'benefits',\n",
    "    'wellness_program',\n",
    "    'seek_help',\n",
    "    'leave'\n",
    "]\n",
    "treatment_palette = {'Yes': '#4CAF50', 'No': '#F44336'}\n",
    "\n",
    "for col in policy_columns:\n",
    "    plt.figure(figsize=(12, 7))\n",
    "    sns.countplot(\n",
    "        x=col,\n",
    "        hue='treatment', # This is the key part: it splits the bars based on the 'treatment' column\n",
    "        data=df,\n",
    "        palette=treatment_palette,\n",
    "        order=sorted(df[col].unique()) # Sort the x-axis categories for consistency\n",
    "    )\n",
    "    plt.title(f'Treatment Status based on Company Policy: \"{col.replace(\"_\", \" \").title()}\"', fontsize=16)\n",
    "    plt.ylabel('Number of Respondents', fontsize=12)\n",
    "    plt.xlabel(f'Response to \"{col.replace(\"_\", \" \").title()}\"', fontsize=12)\n",
    "    plt.xticks(rotation=15, ha='right') # Rotate labels slightly for readability\n",
    "    plt.legend(title='Sought Treatment?')\n",
    "    plt.tight_layout()\n",
    "    plt.show()"
   ]
  },
  {
   "cell_type": "code",
   "execution_count": null,
   "id": "cb3f445b",
   "metadata": {
    "execution": {
     "iopub.execute_input": "2025-08-03T12:49:40.360840Z",
     "iopub.status.busy": "2025-08-03T12:49:40.360482Z",
     "iopub.status.idle": "2025-08-03T12:49:40.596311Z",
     "shell.execute_reply": "2025-08-03T12:49:40.595367Z"
    },
    "papermill": {
     "duration": 0.263691,
     "end_time": "2025-08-03T12:49:40.598325",
     "exception": false,
     "start_time": "2025-08-03T12:49:40.334634",
     "status": "completed"
    },
    "tags": []
   },
   "outputs": [],
   "source": [
    "# Let us now encode our features to better suit them for modelling and seeing the corrleation between them\n",
    "from sklearn.preprocessing import LabelEncoder\n",
    "leave_map = {'Very easy': 4, 'Somewhat easy': 3, \"Don't know\": 2, 'Somewhat difficult': 1, 'Very difficult': 0}\n",
    "df['leave'] = df['leave'].map(leave_map)\n",
    "\n",
    "work_interfere_map = {'Never': 0, 'Rarely': 1, 'Sometimes': 2, 'Often': 3}\n",
    "df['work_interfere'] = df['work_interfere'].map(work_interfere_map)\n",
    "\n",
    "no_employees_map = {'1-5': 0, '6-25': 1, '26-100': 2, '100-500': 3, '500-1000': 4, 'More than 1000': 5}\n",
    "df['no_employees'] = df['no_employees'].map(no_employees_map)\n",
    "\n",
    "trinary_map = {'No': 0, 'Maybe': 1, \"Don't know\": 1, 'Not sure': 1, 'Some of them': 1, 'Yes': 2}\n",
    "trinary_cols = [\n",
    "    'benefits', 'care_options', 'wellness_program', 'seek_help', 'anonymity',\n",
    "    'mental_health_consequence', 'phys_health_consequence', 'coworkers', 'supervisor',\n",
    "    'mental_health_interview', 'phys_health_interview', 'mental_vs_physical'\n",
    "]\n",
    "for col in trinary_cols:\n",
    "    df[col] = df[col].map(trinary_map)\n",
    "\n",
    "binary_map = {'No': 0, 'Yes': 1}\n",
    "binary_cols = [\n",
    "    'self_employed', 'family_history', 'treatment', 'remote_work', \n",
    "    'tech_company', 'obs_consequence'\n",
    "]\n",
    "for col in binary_cols:\n",
    "    df[col] = df[col].map(binary_map)\n",
    "\n",
    "for column in df.select_dtypes(include='object').columns:\n",
    "    le = LabelEncoder()\n",
    "    df[column] = le.fit_transform(df[column])\n",
    "\n"
   ]
  },
  {
   "cell_type": "code",
   "execution_count": null,
   "id": "463d6402",
   "metadata": {
    "execution": {
     "iopub.execute_input": "2025-08-03T12:49:40.650602Z",
     "iopub.status.busy": "2025-08-03T12:49:40.650239Z",
     "iopub.status.idle": "2025-08-03T12:49:42.407560Z",
     "shell.execute_reply": "2025-08-03T12:49:42.406592Z"
    },
    "papermill": {
     "duration": 1.796379,
     "end_time": "2025-08-03T12:49:42.419970",
     "exception": false,
     "start_time": "2025-08-03T12:49:40.623591",
     "status": "completed"
    },
    "tags": []
   },
   "outputs": [],
   "source": [
    "correlation_matrix = df.corr()\n",
    "plt.figure(figsize = (22,18))\n",
    "sns.heatmap(correlation_matrix, cmap = 'coolwarm', annot = True)\n",
    "plt.title('Correlation Matrix', fontsize=16)\n",
    "plt.show()"
   ]
  },
  {
   "cell_type": "code",
   "execution_count": null,
   "id": "c0a698bf",
   "metadata": {
    "papermill": {
     "duration": 0.032205,
     "end_time": "2025-08-03T12:49:42.484278",
     "exception": false,
     "start_time": "2025-08-03T12:49:42.452073",
     "status": "completed"
    },
    "tags": []
   },
   "outputs": [],
   "source": []
  }
 ],
 "metadata": {
  "kaggle": {
   "accelerator": "none",
   "dataSources": [
    {
     "datasetId": 311,
     "sourceId": 673,
     "sourceType": "datasetVersion"
    }
   ],
   "dockerImageVersionId": 31089,
   "isGpuEnabled": false,
   "isInternetEnabled": true,
   "language": "python",
   "sourceType": "notebook"
  },
  "kernelspec": {
   "display_name": "Python 3",
   "language": "python",
   "name": "python3"
  },
  "language_info": {
   "codemirror_mode": {
    "name": "ipython",
    "version": 3
   },
   "file_extension": ".py",
   "mimetype": "text/x-python",
   "name": "python",
   "nbconvert_exporter": "python",
   "pygments_lexer": "ipython3",
   "version": "3.11.7"
  },
  "papermill": {
   "default_parameters": {},
   "duration": 20.495601,
   "end_time": "2025-08-03T12:49:43.339249",
   "environment_variables": {},
   "exception": null,
   "input_path": "__notebook__.ipynb",
   "output_path": "__notebook__.ipynb",
   "parameters": {},
   "start_time": "2025-08-03T12:49:22.843648",
   "version": "2.6.0"
  }
 },
 "nbformat": 4,
 "nbformat_minor": 5
}
