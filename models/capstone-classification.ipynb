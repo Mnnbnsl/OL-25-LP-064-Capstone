{
 "cells": [
  {
   "cell_type": "code",
   "execution_count": 1,
   "id": "a02fe4a9",
   "metadata": {
    "_cell_guid": "b1076dfc-b9ad-4769-8c92-a6c4dae69d19",
    "_uuid": "8f2839f25d086af736a60e9eeb907d3b93b6e0e5",
    "execution": {
     "iopub.execute_input": "2025-07-25T10:00:25.644427Z",
     "iopub.status.busy": "2025-07-25T10:00:25.644209Z",
     "iopub.status.idle": "2025-07-25T10:00:27.054757Z",
     "shell.execute_reply": "2025-07-25T10:00:27.053788Z"
    },
    "papermill": {
     "duration": 1.417107,
     "end_time": "2025-07-25T10:00:27.056208",
     "exception": false,
     "start_time": "2025-07-25T10:00:25.639101",
     "status": "completed"
    },
    "tags": []
   },
   "outputs": [
    {
     "name": "stdout",
     "output_type": "stream",
     "text": [
      "DF loaded\n"
     ]
    }
   ],
   "source": [
    "import numpy as np\n",
    "import pandas as pd\n",
    "\n",
    "df = pd.read_csv('/kaggle/input/capstone-preprocessed/preprocessed_df_capstone.csv')\n",
    "print(\"DF loaded\")\n"
   ]
  },
  {
   "cell_type": "code",
   "execution_count": 2,
   "id": "28f772a9",
   "metadata": {
    "execution": {
     "iopub.execute_input": "2025-07-25T10:00:27.065485Z",
     "iopub.status.busy": "2025-07-25T10:00:27.065272Z",
     "iopub.status.idle": "2025-07-25T10:00:27.076854Z",
     "shell.execute_reply": "2025-07-25T10:00:27.075728Z"
    },
    "papermill": {
     "duration": 0.017766,
     "end_time": "2025-07-25T10:00:27.078201",
     "exception": false,
     "start_time": "2025-07-25T10:00:27.060435",
     "status": "completed"
    },
    "tags": []
   },
   "outputs": [
    {
     "name": "stdout",
     "output_type": "stream",
     "text": [
      "[0. 1.]\n",
      "[3. 1. 0. 2.]\n"
     ]
    },
    {
     "name": "stderr",
     "output_type": "stream",
     "text": [
      "/tmp/ipykernel_19/322485622.py:1: FutureWarning: A value is trying to be set on a copy of a DataFrame or Series through chained assignment using an inplace method.\n",
      "The behavior will change in pandas 3.0. This inplace method will never work because the intermediate object on which we are setting values always behaves as a copy.\n",
      "\n",
      "For example, when doing 'df[col].method(value, inplace=True)', try using 'df.method({col: value}, inplace=True)' or df[col] = df[col].method(value) instead, to perform the operation inplace on the original object.\n",
      "\n",
      "\n",
      "  df['self_employed'].fillna(0, inplace=True)\n",
      "/tmp/ipykernel_19/322485622.py:4: FutureWarning: A value is trying to be set on a copy of a DataFrame or Series through chained assignment using an inplace method.\n",
      "The behavior will change in pandas 3.0. This inplace method will never work because the intermediate object on which we are setting values always behaves as a copy.\n",
      "\n",
      "For example, when doing 'df[col].method(value, inplace=True)', try using 'df.method({col: value}, inplace=True)' or df[col] = df[col].method(value) instead, to perform the operation inplace on the original object.\n",
      "\n",
      "\n",
      "  df['work_interfere'].fillna(0, inplace=True)\n"
     ]
    }
   ],
   "source": [
    "df['self_employed'].fillna(0, inplace=True)\n",
    "print(df['self_employed'].unique())\n",
    "\n",
    "df['work_interfere'].fillna(0, inplace=True)\n",
    "print(df['work_interfere'].unique())"
   ]
  },
  {
   "cell_type": "code",
   "execution_count": 3,
   "id": "f18aa0c7",
   "metadata": {
    "execution": {
     "iopub.execute_input": "2025-07-25T10:00:27.092144Z",
     "iopub.status.busy": "2025-07-25T10:00:27.091932Z",
     "iopub.status.idle": "2025-07-25T10:00:27.095656Z",
     "shell.execute_reply": "2025-07-25T10:00:27.094963Z"
    },
    "papermill": {
     "duration": 0.012109,
     "end_time": "2025-07-25T10:00:27.096980",
     "exception": false,
     "start_time": "2025-07-25T10:00:27.084871",
     "status": "completed"
    },
    "tags": []
   },
   "outputs": [],
   "source": [
    "features = [\n",
    "    'Age', 'Gender', 'self_employed', 'family_history', 'work_interfere',\n",
    "    'no_employees', 'remote_work', 'tech_company', 'benefits',\n",
    "    'care_options', 'wellness_program', 'seek_help', 'anonymity', 'leave',\n",
    "    'mental_health_consequence', 'phys_health_consequence', 'coworkers',\n",
    "    'supervisor', 'mental_health_interview', 'phys_health_interview',\n",
    "    'mental_vs_physical', 'obs_consequence', 'support_score'\n",
    "]"
   ]
  },
  {
   "cell_type": "code",
   "execution_count": 4,
   "id": "293936e7",
   "metadata": {
    "execution": {
     "iopub.execute_input": "2025-07-25T10:00:27.110948Z",
     "iopub.status.busy": "2025-07-25T10:00:27.110725Z",
     "iopub.status.idle": "2025-07-25T10:00:28.251765Z",
     "shell.execute_reply": "2025-07-25T10:00:28.250978Z"
    },
    "papermill": {
     "duration": 1.14973,
     "end_time": "2025-07-25T10:00:28.253384",
     "exception": false,
     "start_time": "2025-07-25T10:00:27.103654",
     "status": "completed"
    },
    "tags": []
   },
   "outputs": [],
   "source": [
    "from sklearn.preprocessing import LabelEncoder\n",
    "le = LabelEncoder()\n",
    "df['Gender'] = le.fit_transform(df['Gender'])"
   ]
  },
  {
   "cell_type": "code",
   "execution_count": 5,
   "id": "b23294ad",
   "metadata": {
    "execution": {
     "iopub.execute_input": "2025-07-25T10:00:28.262575Z",
     "iopub.status.busy": "2025-07-25T10:00:28.261990Z",
     "iopub.status.idle": "2025-07-25T10:00:28.273304Z",
     "shell.execute_reply": "2025-07-25T10:00:28.272758Z"
    },
    "papermill": {
     "duration": 0.016971,
     "end_time": "2025-07-25T10:00:28.274353",
     "exception": false,
     "start_time": "2025-07-25T10:00:28.257382",
     "status": "completed"
    },
    "tags": []
   },
   "outputs": [],
   "source": [
    "X = df[features]\n",
    "y = df['treatment']"
   ]
  },
  {
   "cell_type": "code",
   "execution_count": 6,
   "id": "fe7a32d4",
   "metadata": {
    "execution": {
     "iopub.execute_input": "2025-07-25T10:00:28.282241Z",
     "iopub.status.busy": "2025-07-25T10:00:28.282056Z",
     "iopub.status.idle": "2025-07-25T10:00:28.371271Z",
     "shell.execute_reply": "2025-07-25T10:00:28.370592Z"
    },
    "papermill": {
     "duration": 0.094385,
     "end_time": "2025-07-25T10:00:28.372423",
     "exception": false,
     "start_time": "2025-07-25T10:00:28.278038",
     "status": "completed"
    },
    "tags": []
   },
   "outputs": [],
   "source": [
    "from sklearn.model_selection import train_test_split\n",
    "X_train, X_test, y_train, y_test = train_test_split(X, y, test_size=0.2, random_state=42, stratify=y)"
   ]
  },
  {
   "cell_type": "code",
   "execution_count": 7,
   "id": "78933251",
   "metadata": {
    "execution": {
     "iopub.execute_input": "2025-07-25T10:00:28.380596Z",
     "iopub.status.busy": "2025-07-25T10:00:28.380151Z",
     "iopub.status.idle": "2025-07-25T10:00:30.198991Z",
     "shell.execute_reply": "2025-07-25T10:00:30.198125Z"
    },
    "papermill": {
     "duration": 1.824021,
     "end_time": "2025-07-25T10:00:30.200159",
     "exception": false,
     "start_time": "2025-07-25T10:00:28.376138",
     "status": "completed"
    },
    "tags": []
   },
   "outputs": [
    {
     "name": "stdout",
     "output_type": "stream",
     "text": [
      "Logistic Regression trained\n",
      "Random Forest trained\n",
      "XGBoost trained\n",
      "SVM trained\n"
     ]
    }
   ],
   "source": [
    "from sklearn.linear_model import LogisticRegression\n",
    "from sklearn.ensemble import RandomForestClassifier\n",
    "from xgboost import XGBClassifier\n",
    "from sklearn.svm import SVC\n",
    "\n",
    "models = {\n",
    "    \"Logistic Regression\": LogisticRegression(max_iter=1000),\n",
    "    \"Random Forest\": RandomForestClassifier(),\n",
    "    \"XGBoost\": XGBClassifier(use_label_encoder=False, eval_metric='logloss'),\n",
    "    \"SVM\": SVC(probability=True)\n",
    "}\n",
    "\n",
    "for name, model in models.items():\n",
    "    model.fit(X_train, y_train)\n",
    "    print(f\"{name} trained\")\n",
    "\n",
    "\n"
   ]
  },
  {
   "cell_type": "code",
   "execution_count": 8,
   "id": "54ce992e",
   "metadata": {
    "execution": {
     "iopub.execute_input": "2025-07-25T10:00:30.209319Z",
     "iopub.status.busy": "2025-07-25T10:00:30.209091Z",
     "iopub.status.idle": "2025-07-25T10:00:30.304171Z",
     "shell.execute_reply": "2025-07-25T10:00:30.303124Z"
    },
    "papermill": {
     "duration": 0.101214,
     "end_time": "2025-07-25T10:00:30.305302",
     "exception": false,
     "start_time": "2025-07-25T10:00:30.204088",
     "status": "completed"
    },
    "tags": []
   },
   "outputs": [
    {
     "name": "stdout",
     "output_type": "stream",
     "text": [
      "\n",
      "📊 Logistic Regression Evaluation:\n",
      "Accuracy: 0.8\n",
      "F1 Score: 0.8015873015873016\n",
      "ROC AUC: 0.8811443932411673\n",
      "Confusion Matrix:\n",
      " [[ 99  25]\n",
      " [ 25 101]]\n",
      "Classification Report:\n",
      "               precision    recall  f1-score   support\n",
      "\n",
      "           0       0.80      0.80      0.80       124\n",
      "           1       0.80      0.80      0.80       126\n",
      "\n",
      "    accuracy                           0.80       250\n",
      "   macro avg       0.80      0.80      0.80       250\n",
      "weighted avg       0.80      0.80      0.80       250\n",
      "\n",
      "\n",
      "📊 Random Forest Evaluation:\n",
      "Accuracy: 0.82\n",
      "F1 Score: 0.8221343873517786\n",
      "ROC AUC: 0.90520993343574\n",
      "Confusion Matrix:\n",
      " [[101  23]\n",
      " [ 22 104]]\n",
      "Classification Report:\n",
      "               precision    recall  f1-score   support\n",
      "\n",
      "           0       0.82      0.81      0.82       124\n",
      "           1       0.82      0.83      0.82       126\n",
      "\n",
      "    accuracy                           0.82       250\n",
      "   macro avg       0.82      0.82      0.82       250\n",
      "weighted avg       0.82      0.82      0.82       250\n",
      "\n",
      "\n",
      "📊 XGBoost Evaluation:\n",
      "Accuracy: 0.82\n",
      "F1 Score: 0.8262548262548262\n",
      "ROC AUC: 0.8815924219150024\n",
      "Confusion Matrix:\n",
      " [[ 98  26]\n",
      " [ 19 107]]\n",
      "Classification Report:\n",
      "               precision    recall  f1-score   support\n",
      "\n",
      "           0       0.84      0.79      0.81       124\n",
      "           1       0.80      0.85      0.83       126\n",
      "\n",
      "    accuracy                           0.82       250\n",
      "   macro avg       0.82      0.82      0.82       250\n",
      "weighted avg       0.82      0.82      0.82       250\n",
      "\n",
      "\n",
      "📊 SVM Evaluation:\n",
      "Accuracy: 0.82\n",
      "F1 Score: 0.8249027237354086\n",
      "ROC AUC: 0.873847926267281\n",
      "Confusion Matrix:\n",
      " [[ 99  25]\n",
      " [ 20 106]]\n",
      "Classification Report:\n",
      "               precision    recall  f1-score   support\n",
      "\n",
      "           0       0.83      0.80      0.81       124\n",
      "           1       0.81      0.84      0.82       126\n",
      "\n",
      "    accuracy                           0.82       250\n",
      "   macro avg       0.82      0.82      0.82       250\n",
      "weighted avg       0.82      0.82      0.82       250\n",
      "\n"
     ]
    }
   ],
   "source": [
    "from sklearn.metrics import accuracy_score, confusion_matrix, roc_auc_score, f1_score, classification_report\n",
    "def evaluate(model, name):\n",
    "    y_pred = model.predict(X_test)\n",
    "    y_prob = model.predict_proba(X_test)[:, 1] if hasattr(model, 'predict_proba') else None\n",
    "\n",
    "    print(f\"\\n📊 {name} Evaluation:\")\n",
    "    print(\"Accuracy:\", accuracy_score(y_test, y_pred))\n",
    "    print(\"F1 Score:\", f1_score(y_test, y_pred))\n",
    "    if y_prob is not None:\n",
    "        print(\"ROC AUC:\", roc_auc_score(y_test, y_prob))\n",
    "    print(\"Confusion Matrix:\\n\", confusion_matrix(y_test, y_pred))\n",
    "    print(\"Classification Report:\\n\", classification_report(y_test, y_pred))\n",
    "\n",
    "for name, model in models.items():\n",
    "    evaluate(model, name)"
   ]
  },
  {
   "cell_type": "code",
   "execution_count": 9,
   "id": "f4add595",
   "metadata": {
    "execution": {
     "iopub.execute_input": "2025-07-25T10:00:30.314053Z",
     "iopub.status.busy": "2025-07-25T10:00:30.313806Z",
     "iopub.status.idle": "2025-07-25T10:00:30.958871Z",
     "shell.execute_reply": "2025-07-25T10:00:30.958243Z"
    },
    "papermill": {
     "duration": 0.650816,
     "end_time": "2025-07-25T10:00:30.960122",
     "exception": false,
     "start_time": "2025-07-25T10:00:30.309306",
     "status": "completed"
    },
    "tags": []
   },
   "outputs": [
    {
     "data": {
      "image/png": "[encoded data removed]",
      "text/plain": [
       "<Figure size 640x480 with 1 Axes>"
      ]
     },
     "metadata": {},
     "output_type": "display_data"
    }
   ],
   "source": [
    "import matplotlib.pyplot as plt\n",
    "import seaborn as sns\n",
    "\n",
    "rf = models[\"Random Forest\"]\n",
    "importances = pd.Series(rf.feature_importances_, index=X.columns)\n",
    "importances.nlargest(10).plot(kind='barh')\n",
    "plt.title(\"Top 10 Important Features\")\n",
    "plt.show()"
   ]
  },
  {
   "cell_type": "code",
   "execution_count": 10,
   "id": "e4107b27",
   "metadata": {
    "execution": {
     "iopub.execute_input": "2025-07-25T10:00:30.970211Z",
     "iopub.status.busy": "2025-07-25T10:00:30.969933Z",
     "iopub.status.idle": "2025-07-25T10:02:53.382324Z",
     "shell.execute_reply": "2025-07-25T10:02:53.381522Z"
    },
    "papermill": {
     "duration": 142.422355,
     "end_time": "2025-07-25T10:02:53.387479",
     "exception": false,
     "start_time": "2025-07-25T10:00:30.965124",
     "status": "completed"
    },
    "tags": []
   },
   "outputs": [
    {
     "name": "stdout",
     "output_type": "stream",
     "text": [
      "Fitting 5 folds for each of 216 candidates, totalling 1080 fits\n",
      "Best RF Params: {'max_depth': 10, 'max_features': 'sqrt', 'min_samples_leaf': 4, 'min_samples_split': 2, 'n_estimators': 300}\n",
      "Best RF Score (F1): 0.8429587314908418\n"
     ]
    }
   ],
   "source": [
    "# Clearly we can see that Random Forest is the best performer so lets continue with it forward and fine tune it\n",
    "from sklearn.model_selection import GridSearchCV\n",
    "\n",
    "param_grid_rf = {\n",
    "    \"n_estimators\" : [100,200,300],\n",
    "    \"max_depth\" : [None, 10, 20, 30],\n",
    "    \"min_samples_split\" : [2,5,10],\n",
    "    \"min_samples_leaf\" : [1,2,4],\n",
    "    \"max_features\" : ['sqrt','log2']\n",
    "}\n",
    "\n",
    "grid_rf = GridSearchCV(RandomForestClassifier(random_state = 42),\n",
    "                      param_grid_rf,\n",
    "                      scoring = 'f1',\n",
    "                      cv = 5,\n",
    "                      n_jobs = -1,\n",
    "                      verbose = 1\n",
    ")\n",
    "\n",
    "grid_rf.fit(X_train, y_train)\n",
    "print(\"Best RF Params:\", grid_rf.best_params_)\n",
    "print(\"Best RF Score (F1):\", grid_rf.best_score_)\n",
    "\n",
    "best_rf = grid_rf.best_estimator_"
   ]
  },
  {
   "cell_type": "code",
   "execution_count": 11,
   "id": "c23a9d25",
   "metadata": {
    "execution": {
     "iopub.execute_input": "2025-07-25T10:02:53.397112Z",
     "iopub.status.busy": "2025-07-25T10:02:53.396892Z",
     "iopub.status.idle": "2025-07-25T10:03:33.508451Z",
     "shell.execute_reply": "2025-07-25T10:03:33.507652Z"
    },
    "papermill": {
     "duration": 40.121889,
     "end_time": "2025-07-25T10:03:33.513990",
     "exception": false,
     "start_time": "2025-07-25T10:02:53.392101",
     "status": "completed"
    },
    "tags": []
   },
   "outputs": [
    {
     "name": "stdout",
     "output_type": "stream",
     "text": [
      "Fitting 5 folds for each of 50 candidates, totalling 250 fits\n",
      "Best Random Search RF Params: {'n_estimators': 300, 'min_samples_split': 10, 'min_samples_leaf': 1, 'max_features': 'sqrt', 'max_depth': 5, 'bootstrap': True}\n"
     ]
    }
   ],
   "source": [
    "from sklearn.model_selection import RandomizedSearchCV\n",
    "import numpy as np\n",
    "\n",
    "param_dist = {\n",
    "    'n_estimators': [100, 200, 300, 400],\n",
    "    'max_depth': [5, 10, 15, None],\n",
    "    'min_samples_split': [2, 5, 10],\n",
    "    'min_samples_leaf': [1, 2, 4],\n",
    "    'max_features': ['sqrt', 'log2'],\n",
    "    'bootstrap': [True, False]\n",
    "}\n",
    "\n",
    "rnd_search = RandomizedSearchCV(RandomForestClassifier(random_state=42),\n",
    "                                param_distributions=param_dist,\n",
    "                                n_iter=50,\n",
    "                                scoring='f1',\n",
    "                                cv=5,\n",
    "                                n_jobs=-1,\n",
    "                                verbose=1,\n",
    "                                random_state=42)\n",
    "\n",
    "rnd_search.fit(X_train, y_train)\n",
    "print(\"Best Random Search RF Params:\", rnd_search.best_params_)"
   ]
  },
  {
   "cell_type": "code",
   "execution_count": 12,
   "id": "66dc95d0",
   "metadata": {
    "execution": {
     "iopub.execute_input": "2025-07-25T10:03:33.523753Z",
     "iopub.status.busy": "2025-07-25T10:03:33.523332Z",
     "iopub.status.idle": "2025-07-25T10:03:33.637603Z",
     "shell.execute_reply": "2025-07-25T10:03:33.636637Z"
    },
    "papermill": {
     "duration": 0.120327,
     "end_time": "2025-07-25T10:03:33.638725",
     "exception": false,
     "start_time": "2025-07-25T10:03:33.518398",
     "status": "completed"
    },
    "tags": []
   },
   "outputs": [
    {
     "name": "stdout",
     "output_type": "stream",
     "text": [
      "\n",
      "📊 Tuned Random Forest Evaluation:\n",
      "Accuracy: 0.828\n",
      "F1 Score: 0.8365019011406843\n",
      "ROC AUC: 0.9174987199180747\n",
      "Confusion Matrix:\n",
      " [[ 97  27]\n",
      " [ 16 110]]\n",
      "Classification Report:\n",
      "               precision    recall  f1-score   support\n",
      "\n",
      "           0       0.86      0.78      0.82       124\n",
      "           1       0.80      0.87      0.84       126\n",
      "\n",
      "    accuracy                           0.83       250\n",
      "   macro avg       0.83      0.83      0.83       250\n",
      "weighted avg       0.83      0.83      0.83       250\n",
      "\n",
      "\n",
      "📊 Default Random Forest Evaluation:\n",
      "Accuracy: 0.82\n",
      "F1 Score: 0.8221343873517786\n",
      "ROC AUC: 0.90520993343574\n",
      "Confusion Matrix:\n",
      " [[101  23]\n",
      " [ 22 104]]\n",
      "Classification Report:\n",
      "               precision    recall  f1-score   support\n",
      "\n",
      "           0       0.82      0.81      0.82       124\n",
      "           1       0.82      0.83      0.82       126\n",
      "\n",
      "    accuracy                           0.82       250\n",
      "   macro avg       0.82      0.82      0.82       250\n",
      "weighted avg       0.82      0.82      0.82       250\n",
      "\n",
      "\n",
      "📊 Random Search Model Evaluation:\n",
      "Accuracy: 0.844\n",
      "F1 Score: 0.8571428571428572\n",
      "ROC AUC: 0.9187788018433181\n",
      "Confusion Matrix:\n",
      " [[ 94  30]\n",
      " [  9 117]]\n",
      "Classification Report:\n",
      "               precision    recall  f1-score   support\n",
      "\n",
      "           0       0.91      0.76      0.83       124\n",
      "           1       0.80      0.93      0.86       126\n",
      "\n",
      "    accuracy                           0.84       250\n",
      "   macro avg       0.85      0.84      0.84       250\n",
      "weighted avg       0.85      0.84      0.84       250\n",
      "\n"
     ]
    }
   ],
   "source": [
    "evaluate(best_rf, \"Tuned Random Forest\")\n",
    "evaluate(models[\"Random Forest\"], \"Default Random Forest\")\n",
    "evaluate(rnd_search, \"Random Search Model\")"
   ]
  },
  {
   "cell_type": "code",
   "execution_count": 13,
   "id": "fec3d8b3",
   "metadata": {
    "execution": {
     "iopub.execute_input": "2025-07-25T10:03:33.648839Z",
     "iopub.status.busy": "2025-07-25T10:03:33.648240Z",
     "iopub.status.idle": "2025-07-25T10:03:33.651100Z",
     "shell.execute_reply": "2025-07-25T10:03:33.650582Z"
    },
    "papermill": {
     "duration": 0.00896,
     "end_time": "2025-07-25T10:03:33.652140",
     "exception": false,
     "start_time": "2025-07-25T10:03:33.643180",
     "status": "completed"
    },
    "tags": []
   },
   "outputs": [],
   "source": [
    "# after trying out different combinations.\n",
    "# The best model so far is the Default Random Forest"
   ]
  },
  {
   "cell_type": "code",
   "execution_count": 14,
   "id": "4b477d19",
   "metadata": {
    "execution": {
     "iopub.execute_input": "2025-07-25T10:03:33.661615Z",
     "iopub.status.busy": "2025-07-25T10:03:33.661421Z",
     "iopub.status.idle": "2025-07-25T10:03:33.914906Z",
     "shell.execute_reply": "2025-07-25T10:03:33.914263Z"
    },
    "papermill": {
     "duration": 0.259552,
     "end_time": "2025-07-25T10:03:33.916114",
     "exception": false,
     "start_time": "2025-07-25T10:03:33.656562",
     "status": "completed"
    },
    "tags": []
   },
   "outputs": [
    {
     "data": {
      "image/png": "[encoded data removed]",
      "text/plain": [
       "<Figure size 1000x700 with 1 Axes>"
      ]
     },
     "metadata": {},
     "output_type": "display_data"
    }
   ],
   "source": [
    "import matplotlib.pyplot as plt\n",
    "from sklearn.metrics import roc_curve, auc\n",
    "\n",
    "\n",
    "models = {\n",
    "    'Random Forest' : models['Random Forest'],\n",
    "    'GirdCV RF' : best_rf,\n",
    "    'Random Search' : rnd_search,\n",
    "}\n",
    "\n",
    "plt.figure(figsize=(10, 7))\n",
    "\n",
    "for name, model in models.items():\n",
    "    y_probs = model.predict_proba(X_test)[:, 1]\n",
    "    fpr, tpr, _ = roc_curve(y_test, y_probs)\n",
    "    roc_auc = auc(fpr, tpr)\n",
    "    plt.plot(fpr, tpr, label=f'{name} (AUC = {roc_auc:.3f})')\n",
    "\n",
    "\n",
    "plt.plot([0, 1], [0, 1], color='gray', linestyle='--')\n",
    "\n",
    "\n",
    "plt.title('ROC Curves for All Models')\n",
    "plt.xlabel('False Positive Rate')\n",
    "plt.ylabel('True Positive Rate')\n",
    "plt.legend(loc='lower right')\n",
    "plt.grid(True)\n",
    "plt.tight_layout()\n",
    "plt.show()\n"
   ]
  },
  {
   "cell_type": "code",
   "execution_count": 15,
   "id": "8b4979b8",
   "metadata": {
    "execution": {
     "iopub.execute_input": "2025-07-25T10:03:33.928314Z",
     "iopub.status.busy": "2025-07-25T10:03:33.928102Z",
     "iopub.status.idle": "2025-07-25T10:03:33.930788Z",
     "shell.execute_reply": "2025-07-25T10:03:33.930306Z"
    },
    "papermill": {
     "duration": 0.009657,
     "end_time": "2025-07-25T10:03:33.931816",
     "exception": false,
     "start_time": "2025-07-25T10:03:33.922159",
     "status": "completed"
    },
    "tags": []
   },
   "outputs": [],
   "source": [
    "# This ROC plot clears things up. while the Normal RF has better accuracy \n",
    "# but the Random search RF is better at generalization.\n",
    "# So are best model is the Random Search clf which attains 84% accuracy and 0.919 AUC score"
   ]
  },
  {
   "cell_type": "code",
   "execution_count": 16,
   "id": "75ebec33",
   "metadata": {
    "execution": {
     "iopub.execute_input": "2025-07-25T10:03:33.943552Z",
     "iopub.status.busy": "2025-07-25T10:03:33.943051Z",
     "iopub.status.idle": "2025-07-25T10:03:44.614346Z",
     "shell.execute_reply": "2025-07-25T10:03:44.613807Z"
    },
    "papermill": {
     "duration": 10.678502,
     "end_time": "2025-07-25T10:03:44.615704",
     "exception": false,
     "start_time": "2025-07-25T10:03:33.937202",
     "status": "completed"
    },
    "tags": []
   },
   "outputs": [
    {
     "name": "stdout",
     "output_type": "stream",
     "text": [
      "Fitting 5 folds for each of 72 candidates, totalling 360 fits\n",
      "Best XGB Params: {'colsample_bytree': 1, 'learning_rate': 0.01, 'max_depth': 3, 'n_estimators': 100, 'subsample': 0.8}\n",
      "Best XGB Score (F1): 0.8499424397983063\n"
     ]
    }
   ],
   "source": [
    "# Let us try GridSearchCV on other algos as well for cross checking.\n",
    "from xgboost import XGBClassifier\n",
    "\n",
    "param_grid_xgb = {\n",
    "    'n_estimators': [100, 200],\n",
    "    'learning_rate': [0.01, 0.05, 0.1],\n",
    "    'max_depth': [3, 5, 7],\n",
    "    'subsample': [0.8, 1],\n",
    "    'colsample_bytree': [0.8, 1]\n",
    "}\n",
    "\n",
    "grid_xgb = GridSearchCV(XGBClassifier(use_label_encoder=False, eval_metric='logloss', random_state=42),\n",
    "                        param_grid_xgb,\n",
    "                        scoring='f1',\n",
    "                        cv=5,\n",
    "                        n_jobs=-1,\n",
    "                        verbose=1)\n",
    "\n",
    "grid_xgb.fit(X_train, y_train)\n",
    "print(\"Best XGB Params:\", grid_xgb.best_params_)\n",
    "print(\"Best XGB Score (F1):\", grid_xgb.best_score_)\n",
    "\n",
    "best_xgb = grid_xgb.best_estimator_\n"
   ]
  },
  {
   "cell_type": "code",
   "execution_count": 17,
   "id": "63cd3cc0",
   "metadata": {
    "execution": {
     "iopub.execute_input": "2025-07-25T10:03:44.630982Z",
     "iopub.status.busy": "2025-07-25T10:03:44.630341Z",
     "iopub.status.idle": "2025-07-25T10:03:44.929787Z",
     "shell.execute_reply": "2025-07-25T10:03:44.929087Z"
    },
    "papermill": {
     "duration": 0.307439,
     "end_time": "2025-07-25T10:03:44.930937",
     "exception": false,
     "start_time": "2025-07-25T10:03:44.623498",
     "status": "completed"
    },
    "tags": []
   },
   "outputs": [
    {
     "name": "stdout",
     "output_type": "stream",
     "text": [
      "Fitting 5 folds for each of 8 candidates, totalling 40 fits\n",
      "Best LR Params: {'C': 0.1, 'penalty': 'l2', 'solver': 'liblinear'}\n",
      "Best LR Score (F1): 0.8159717245496603\n"
     ]
    }
   ],
   "source": [
    "from sklearn.linear_model import LogisticRegression\n",
    "\n",
    "param_grid_lr = {\n",
    "    'C': [0.01, 0.1, 1, 10],\n",
    "    'penalty': ['l1', 'l2'],\n",
    "    'solver': ['liblinear']\n",
    "}\n",
    "\n",
    "grid_lr = GridSearchCV(LogisticRegression(max_iter=1000),\n",
    "                       param_grid_lr,\n",
    "                       scoring='f1',\n",
    "                       cv=5,\n",
    "                       n_jobs=-1,\n",
    "                       verbose=1)\n",
    "\n",
    "grid_lr.fit(X_train, y_train)\n",
    "print(\"Best LR Params:\", grid_lr.best_params_)\n",
    "print(\"Best LR Score (F1):\", grid_lr.best_score_)\n",
    "\n",
    "best_lr = grid_lr.best_estimator_\n"
   ]
  },
  {
   "cell_type": "code",
   "execution_count": 18,
   "id": "f455d852",
   "metadata": {
    "execution": {
     "iopub.execute_input": "2025-07-25T10:03:44.943162Z",
     "iopub.status.busy": "2025-07-25T10:03:44.942972Z",
     "iopub.status.idle": "2025-07-25T10:04:02.504713Z",
     "shell.execute_reply": "2025-07-25T10:04:02.503884Z"
    },
    "papermill": {
     "duration": 17.569106,
     "end_time": "2025-07-25T10:04:02.505873",
     "exception": false,
     "start_time": "2025-07-25T10:03:44.936767",
     "status": "completed"
    },
    "tags": []
   },
   "outputs": [
    {
     "name": "stdout",
     "output_type": "stream",
     "text": [
      "Fitting 5 folds for each of 12 candidates, totalling 60 fits\n",
      "Best SVM Params: {'C': 0.1, 'gamma': 'scale', 'kernel': 'linear'}\n",
      "Best SVM Score (F1): 0.8401870561279358\n"
     ]
    }
   ],
   "source": [
    "from sklearn.svm import SVC\n",
    "\n",
    "param_grid_svc = {\n",
    "    'C': [0.1, 1, 10],\n",
    "    'kernel': ['linear', 'rbf'],\n",
    "    'gamma': ['scale', 'auto']\n",
    "}\n",
    "\n",
    "grid_svc = GridSearchCV(SVC(probability=True),\n",
    "                        param_grid_svc,\n",
    "                        scoring='f1',\n",
    "                        cv=5,\n",
    "                        n_jobs=-1,\n",
    "                        verbose=1)\n",
    "\n",
    "grid_svc.fit(X_train, y_train)\n",
    "print(\"Best SVM Params:\", grid_svc.best_params_)\n",
    "print(\"Best SVM Score (F1):\", grid_svc.best_score_)\n",
    "\n",
    "best_svc = grid_svc.best_estimator_\n"
   ]
  },
  {
   "cell_type": "code",
   "execution_count": 19,
   "id": "7432ba86",
   "metadata": {
    "execution": {
     "iopub.execute_input": "2025-07-25T10:04:02.518931Z",
     "iopub.status.busy": "2025-07-25T10:04:02.518422Z",
     "iopub.status.idle": "2025-07-25T10:04:02.606651Z",
     "shell.execute_reply": "2025-07-25T10:04:02.605783Z"
    },
    "papermill": {
     "duration": 0.095669,
     "end_time": "2025-07-25T10:04:02.607708",
     "exception": false,
     "start_time": "2025-07-25T10:04:02.512039",
     "status": "completed"
    },
    "tags": []
   },
   "outputs": [
    {
     "name": "stdout",
     "output_type": "stream",
     "text": [
      "\n",
      "📊 Tuned Random Forest Evaluation:\n",
      "Accuracy: 0.828\n",
      "F1 Score: 0.8365019011406843\n",
      "ROC AUC: 0.9174987199180747\n",
      "Confusion Matrix:\n",
      " [[ 97  27]\n",
      " [ 16 110]]\n",
      "Classification Report:\n",
      "               precision    recall  f1-score   support\n",
      "\n",
      "           0       0.86      0.78      0.82       124\n",
      "           1       0.80      0.87      0.84       126\n",
      "\n",
      "    accuracy                           0.83       250\n",
      "   macro avg       0.83      0.83      0.83       250\n",
      "weighted avg       0.83      0.83      0.83       250\n",
      "\n",
      "\n",
      "📊 Tuned XGBoost Evaluation:\n",
      "Accuracy: 0.832\n",
      "F1 Score: 0.8489208633093525\n",
      "ROC AUC: 0.9003136200716846\n",
      "Confusion Matrix:\n",
      " [[ 90  34]\n",
      " [  8 118]]\n",
      "Classification Report:\n",
      "               precision    recall  f1-score   support\n",
      "\n",
      "           0       0.92      0.73      0.81       124\n",
      "           1       0.78      0.94      0.85       126\n",
      "\n",
      "    accuracy                           0.83       250\n",
      "   macro avg       0.85      0.83      0.83       250\n",
      "weighted avg       0.85      0.83      0.83       250\n",
      "\n",
      "\n",
      "📊 Tuned Logistic Regression Evaluation:\n",
      "Accuracy: 0.812\n",
      "F1 Score: 0.8142292490118577\n",
      "ROC AUC: 0.8787122375832053\n",
      "Confusion Matrix:\n",
      " [[100  24]\n",
      " [ 23 103]]\n",
      "Classification Report:\n",
      "               precision    recall  f1-score   support\n",
      "\n",
      "           0       0.81      0.81      0.81       124\n",
      "           1       0.81      0.82      0.81       126\n",
      "\n",
      "    accuracy                           0.81       250\n",
      "   macro avg       0.81      0.81      0.81       250\n",
      "weighted avg       0.81      0.81      0.81       250\n",
      "\n",
      "\n",
      "📊 Tuned SVM Evaluation:\n",
      "Accuracy: 0.816\n",
      "F1 Score: 0.8203125000000001\n",
      "ROC AUC: 0.8669354838709676\n",
      "Confusion Matrix:\n",
      " [[ 99  25]\n",
      " [ 21 105]]\n",
      "Classification Report:\n",
      "               precision    recall  f1-score   support\n",
      "\n",
      "           0       0.82      0.80      0.81       124\n",
      "           1       0.81      0.83      0.82       126\n",
      "\n",
      "    accuracy                           0.82       250\n",
      "   macro avg       0.82      0.82      0.82       250\n",
      "weighted avg       0.82      0.82      0.82       250\n",
      "\n"
     ]
    }
   ],
   "source": [
    "evaluate(best_rf, \"Tuned Random Forest\")\n",
    "evaluate(best_xgb, \"Tuned XGBoost\")\n",
    "evaluate(best_lr, \"Tuned Logistic Regression\")  \n",
    "evaluate(best_svc, \"Tuned SVM\")                 "
   ]
  },
  {
   "cell_type": "code",
   "execution_count": 20,
   "id": "6a7de2ad",
   "metadata": {
    "execution": {
     "iopub.execute_input": "2025-07-25T10:04:02.620180Z",
     "iopub.status.busy": "2025-07-25T10:04:02.619997Z",
     "iopub.status.idle": "2025-07-25T10:04:02.622715Z",
     "shell.execute_reply": "2025-07-25T10:04:02.622212Z"
    },
    "papermill": {
     "duration": 0.010032,
     "end_time": "2025-07-25T10:04:02.623649",
     "exception": false,
     "start_time": "2025-07-25T10:04:02.613617",
     "status": "completed"
    },
    "tags": []
   },
   "outputs": [],
   "source": [
    "# So now it is clear that Random Search RF is the best generalised model we can get.\n",
    "# let us now save it with the whole preprocessing piepline"
   ]
  },
  {
   "cell_type": "code",
   "execution_count": 21,
   "id": "04e314ac",
   "metadata": {
    "execution": {
     "iopub.execute_input": "2025-07-25T10:04:02.636083Z",
     "iopub.status.busy": "2025-07-25T10:04:02.635881Z",
     "iopub.status.idle": "2025-07-25T10:04:02.644847Z",
     "shell.execute_reply": "2025-07-25T10:04:02.644140Z"
    },
    "papermill": {
     "duration": 0.016458,
     "end_time": "2025-07-25T10:04:02.645922",
     "exception": false,
     "start_time": "2025-07-25T10:04:02.629464",
     "status": "completed"
    },
    "tags": []
   },
   "outputs": [],
   "source": [
    "import pandas as pd\n",
    "from sklearn.base import BaseEstimator, TransformerMixin\n",
    "from sklearn.preprocessing import LabelEncoder\n",
    "\n",
    "class MentalHealthPreprocessor(BaseEstimator, TransformerMixin):\n",
    "    def fit(self, X, y=None):\n",
    "        return self\n",
    "\n",
    "    def transform(self, X):\n",
    "        X = X.copy()\n",
    "\n",
    "        \n",
    "        drop_cols = ['Timestamp', 'state', 'Country', 'comments']\n",
    "        X = X.drop(columns=[col for col in drop_cols if col in X.columns])\n",
    "\n",
    "        \n",
    "        if 'treatment' in X.columns:\n",
    "            X = X.drop(columns=['treatment'])\n",
    "\n",
    "        \n",
    "        binary_map = {'Yes': 1, 'No': 0}\n",
    "        binary_cols = [\n",
    "            'self_employed', 'family_history', 'remote_work', 'tech_company', \n",
    "            'benefits', 'care_options', 'wellness_program', 'seek_help', \n",
    "            'anonymity', 'mental_health_consequence', 'phys_health_consequence', \n",
    "            'mental_health_interview', 'phys_health_interview', 'obs_consequence'\n",
    "        ]\n",
    "        for col in binary_cols:\n",
    "            if col in X.columns:\n",
    "                X[col] = X[col].map(binary_map).fillna(0)\n",
    "\n",
    "        \n",
    "        trinary_map = {'Yes': 2, 'No': 0, \"Don't know\": 1, 'Some of them': 1, 'Not sure': 1, 'Maybe': 1}\n",
    "        trinary_cols = ['supervisor', 'coworkers', 'mental_vs_physical']\n",
    "        for col in trinary_cols:\n",
    "             if col in X.columns:\n",
    "                X[col] = X[col].map(trinary_map).fillna(1)\n",
    "                \n",
    "        \n",
    "        leave_map = {\n",
    "            'Very difficult': 0, 'Somewhat difficult': 1, \"Don't know\": 2,\n",
    "            'Somewhat easy': 3, 'Very easy': 4\n",
    "        }\n",
    "        if 'leave' in X.columns:\n",
    "            X['leave'] = X['leave'].map(leave_map).fillna(2)\n",
    "\n",
    "        interfere_map = {\n",
    "            'Never': 0, 'Rarely': 1, 'Sometimes': 2, 'Often': 3\n",
    "        }\n",
    "        if 'work_interfere' in X.columns:\n",
    "            X['work_interfere'] = X['work_interfere'].map(interfere_map).fillna(2)\n",
    "\n",
    "        size_map = {\n",
    "            '1-5': 0, '6-25': 1, '26-100': 2,\n",
    "            '100-500': 3, '500-1000': 4, 'More than 1000': 5\n",
    "        }\n",
    "        if 'no_employees' in X.columns:\n",
    "            X['no_employees'] = X['no_employees'].map(size_map).fillna(2)\n",
    "\n",
    "        if 'Gender' in X.columns:\n",
    "            def clean_gender(gender):\n",
    "                if not isinstance(gender, str): \n",
    "                    return 'Other/Non-Binary'\n",
    "                g = gender.lower()\n",
    "                if 'fem' in g or 'wom' in g or g == 'f':\n",
    "                    return 'Female'\n",
    "                elif 'mal' in g or 'man' in g or g == 'm' or 'guy' in g:\n",
    "                    return 'Male'\n",
    "                else:\n",
    "                    return 'Other/Non-Binary'\n",
    "            \n",
    "            X['Gender'] = X['Gender'].apply(clean_gender)\n",
    "            le = LabelEncoder()\n",
    "            X['Gender'] = le.fit_transform(X['Gender'])\n",
    "\n",
    "        return X"
   ]
  },
  {
   "cell_type": "code",
   "execution_count": 22,
   "id": "68cc8446",
   "metadata": {
    "execution": {
     "iopub.execute_input": "2025-07-25T10:04:02.658129Z",
     "iopub.status.busy": "2025-07-25T10:04:02.657956Z",
     "iopub.status.idle": "2025-07-25T10:04:44.749191Z",
     "shell.execute_reply": "2025-07-25T10:04:44.748510Z"
    },
    "papermill": {
     "duration": 42.10917,
     "end_time": "2025-07-25T10:04:44.760719",
     "exception": false,
     "start_time": "2025-07-25T10:04:02.651549",
     "status": "completed"
    },
    "tags": []
   },
   "outputs": [
    {
     "name": "stdout",
     "output_type": "stream",
     "text": [
      "Fitting 5 folds for each of 50 candidates, totalling 250 fits\n"
     ]
    },
    {
     "data": {
      "text/plain": [
       "['mental_health_clf_pipeline.pkl']"
      ]
     },
     "execution_count": 22,
     "metadata": {},
     "output_type": "execute_result"
    }
   ],
   "source": [
    "import joblib\n",
    "from sklearn.pipeline import Pipeline\n",
    "final_model = rnd_search \n",
    "\n",
    "# Full pipeline\n",
    "deployment_pipeline = Pipeline(steps=[\n",
    "    ('preprocessing', MentalHealthPreprocessor()),\n",
    "    ('model', final_model)\n",
    "])\n",
    "raw_df = pd.read_csv('/kaggle/input/mental-health-in-tech-survey/survey.csv')\n",
    "filtered_df = raw_df[(raw_df['Age'] >= 18) & (raw_df['Age'] <= 65)].copy()\n",
    "y_final = filtered_df['treatment'].map({'No': 0, 'Yes': 1})\n",
    "\n",
    "deployment_pipeline.fit(filtered_df, y_final)\n",
    "joblib.dump(deployment_pipeline, 'mental_health_clf_pipeline.pkl')\n",
    "\n"
   ]
  },
  {
   "cell_type": "code",
   "execution_count": 23,
   "id": "d805dfdd",
   "metadata": {
    "execution": {
     "iopub.execute_input": "2025-07-25T10:04:44.775087Z",
     "iopub.status.busy": "2025-07-25T10:04:44.774437Z",
     "iopub.status.idle": "2025-07-25T10:04:44.892678Z",
     "shell.execute_reply": "2025-07-25T10:04:44.891905Z"
    },
    "papermill": {
     "duration": 0.126039,
     "end_time": "2025-07-25T10:04:44.893803",
     "exception": false,
     "start_time": "2025-07-25T10:04:44.767764",
     "status": "completed"
    },
    "tags": []
   },
   "outputs": [
    {
     "name": "stdout",
     "output_type": "stream",
     "text": [
      "Prediction: 1\n",
      "Probability (needs treatment): 0.644572189040395\n"
     ]
    }
   ],
   "source": [
    "pipeline = joblib.load('mental_health_clf_pipeline.pkl')\n",
    "\n",
    "# Example input (raw row matching original dataset)\n",
    "example = pd.DataFrame([{\n",
    "    'Age': 28,\n",
    "    'Gender': 'male',\n",
    "    'self_employed': 'No',\n",
    "    'family_history': 'No',\n",
    "    'work_interfere': 'Often',\n",
    "    'no_employees': '6-25',\n",
    "    'remote_work': 'Yes',\n",
    "    'tech_company': 'Yes',\n",
    "    'benefits': 'Yes',\n",
    "    'care_options': 'Not sure',\n",
    "    'wellness_program': 'Yes',\n",
    "    'seek_help': 'Yes',\n",
    "    'anonymity': \"Yes\",\n",
    "    'leave': 'Somewhat easy',\n",
    "    'mental_health_consequence': 'No',\n",
    "    'phys_health_consequence': 'No',\n",
    "    'coworkers': 'Some of them',\n",
    "    'supervisor': 'Yes',\n",
    "    'mental_health_interview': 'No',\n",
    "    'phys_health_interview': 'Maybe',\n",
    "    'mental_vs_physical': \"Don't know\",\n",
    "    'obs_consequence': 'No'\n",
    "}])\n",
    "\n",
    "# Predict\n",
    "pred = pipeline.predict(example)\n",
    "prob = pipeline.predict_proba(example)\n",
    "\n",
    "print(\"Prediction:\", pred[0])\n",
    "print(\"Probability (needs treatment):\", prob[0][1])"
   ]
  },
  {
   "cell_type": "code",
   "execution_count": 24,
   "id": "5daf71e9",
   "metadata": {
    "execution": {
     "iopub.execute_input": "2025-07-25T10:04:44.909360Z",
     "iopub.status.busy": "2025-07-25T10:04:44.908686Z",
     "iopub.status.idle": "2025-07-25T10:04:44.912647Z",
     "shell.execute_reply": "2025-07-25T10:04:44.911870Z"
    },
    "papermill": {
     "duration": 0.01339,
     "end_time": "2025-07-25T10:04:44.914089",
     "exception": false,
     "start_time": "2025-07-25T10:04:44.900699",
     "status": "completed"
    },
    "tags": []
   },
   "outputs": [],
   "source": [
    "# Pipeline is now tested"
   ]
  }
 ],
 "metadata": {
  "kaggle": {
   "accelerator": "nvidiaTeslaT4",
   "dataSources": [
    {
     "datasetId": 311,
     "sourceId": 673,
     "sourceType": "datasetVersion"
    },
    {
     "datasetId": 7936629,
     "sourceId": 12567754,
     "sourceType": "datasetVersion"
    }
   ],
   "dockerImageVersionId": 31089,
   "isGpuEnabled": true,
   "isInternetEnabled": true,
   "language": "python",
   "sourceType": "notebook"
  },
  "kernelspec": {
   "display_name": "Python 3",
   "language": "python",
   "name": "python3"
  },
  "language_info": {
   "codemirror_mode": {
    "name": "ipython",
    "version": 3
   },
   "file_extension": ".py",
   "mimetype": "text/x-python",
   "name": "python",
   "nbconvert_exporter": "python",
   "pygments_lexer": "ipython3",
   "version": "3.11.13"
  },
  "papermill": {
   "default_parameters": {},
   "duration": 265.873824,
   "end_time": "2025-07-25T10:04:47.540534",
   "environment_variables": {},
   "exception": null,
   "input_path": "__notebook__.ipynb",
   "output_path": "__notebook__.ipynb",
   "parameters": {},
   "start_time": "2025-07-25T10:00:21.666710",
   "version": "2.6.0"
  }
 },
 "nbformat": 4,
 "nbformat_minor": 5
}
