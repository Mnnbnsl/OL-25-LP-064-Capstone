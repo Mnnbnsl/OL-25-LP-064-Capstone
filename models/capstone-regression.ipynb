{
 "cells": [
  {
   "cell_type": "code",
   "execution_count": 1,
   "id": "881b0605",
   "metadata": {
    "_cell_guid": "b1076dfc-b9ad-4769-8c92-a6c4dae69d19",
    "_uuid": "8f2839f25d086af736a60e9eeb907d3b93b6e0e5",
    "execution": {
     "iopub.execute_input": "2025-08-03T12:46:21.861586Z",
     "iopub.status.busy": "2025-08-03T12:46:21.861257Z",
     "iopub.status.idle": "2025-08-03T12:46:26.104308Z",
     "shell.execute_reply": "2025-08-03T12:46:26.103211Z"
    },
    "papermill": {
     "duration": 4.248699,
     "end_time": "2025-08-03T12:46:26.105847",
     "exception": false,
     "start_time": "2025-08-03T12:46:21.857148",
     "status": "completed"
    },
    "tags": []
   },
   "outputs": [
    {
     "name": "stdout",
     "output_type": "stream",
     "text": [
      "Data successfully prepared for regression.\n",
      "Training set shape: (1000, 23)\n",
      "Testing set shape: (250, 23)\n"
     ]
    },
    {
     "name": "stderr",
     "output_type": "stream",
     "text": [
      "/tmp/ipykernel_13/3147509431.py:20: FutureWarning: A value is trying to be set on a copy of a DataFrame or Series through chained assignment using an inplace method.\n",
      "The behavior will change in pandas 3.0. This inplace method will never work because the intermediate object on which we are setting values always behaves as a copy.\n",
      "\n",
      "For example, when doing 'df[col].method(value, inplace=True)', try using 'df.method({col: value}, inplace=True)' or df[col] = df[col].method(value) instead, to perform the operation inplace on the original object.\n",
      "\n",
      "\n",
      "  X[col].fillna(X[col].median(), inplace=True)\n"
     ]
    }
   ],
   "source": [
    "import pandas as pd\n",
    "import numpy as np\n",
    "from sklearn.model_selection import train_test_split\n",
    "from sklearn.preprocessing import LabelEncoder\n",
    "from sklearn.linear_model import LinearRegression, Lasso, Ridge, ElasticNet\n",
    "from sklearn.svm import SVR\n",
    "from sklearn.ensemble import RandomForestRegressor\n",
    "from sklearn.metrics import mean_squared_error, mean_absolute_error, r2_score\n",
    "\n",
    "df = pd.read_csv('/kaggle/input/capstone-preprocessed/preprocessed_df_capstone.csv')\n",
    "\n",
    "y = df['Age']\n",
    "\n",
    "X = df.drop(columns=['Age', 'Country', 'state'])\n",
    "\n",
    "le = LabelEncoder()\n",
    "X['Gender'] = le.fit_transform(X['Gender'])\n",
    "for col in X.columns:\n",
    "    if X[col].isnull().any():\n",
    "        X[col].fillna(X[col].median(), inplace=True)\n",
    "\n",
    "X_train, X_test, y_train, y_test = train_test_split(X, y, test_size=0.2, random_state=42)\n",
    "\n",
    "print(\"Data successfully prepared for regression.\")\n",
    "print(f\"Training set shape: {X_train.shape}\")\n",
    "print(f\"Testing set shape: {X_test.shape}\")"
   ]
  },
  {
   "cell_type": "code",
   "execution_count": 2,
   "id": "0e9e4ca7",
   "metadata": {
    "execution": {
     "iopub.execute_input": "2025-08-03T12:46:26.112070Z",
     "iopub.status.busy": "2025-08-03T12:46:26.111729Z",
     "iopub.status.idle": "2025-08-03T12:46:26.812345Z",
     "shell.execute_reply": "2025-08-03T12:46:26.811106Z"
    },
    "papermill": {
     "duration": 0.70522,
     "end_time": "2025-08-03T12:46:26.813902",
     "exception": false,
     "start_time": "2025-08-03T12:46:26.108682",
     "status": "completed"
    },
    "tags": []
   },
   "outputs": [
    {
     "name": "stdout",
     "output_type": "stream",
     "text": [
      "--- Model Performance Comparison (with Elastic Net) ---\n",
      "                                     MAE      RMSE  R² Score\n",
      "Linear Regression               5.440932  7.055739  0.048365\n",
      "Lasso (L1)                      5.596023  7.224105  0.002407\n",
      "Ridge (L2)                      5.440798  7.055005  0.048563\n",
      "Elastic Net                     5.571049  7.190006  0.011803\n",
      "Support Vector Regressor (SVR)  5.503766  7.223146  0.002672\n",
      "Random Forest Regressor         5.460840  7.104575  0.035146\n"
     ]
    }
   ],
   "source": [
    "models = {\n",
    "    \"Linear Regression\": LinearRegression(),\n",
    "    \"Lasso (L1)\": Lasso(alpha=1.0, max_iter=2000),\n",
    "    \"Ridge (L2)\": Ridge(alpha=1.0),\n",
    "    \"Elastic Net\": ElasticNet(alpha=1.0, l1_ratio=0.5, max_iter=2000), # ✅ Added model\n",
    "    \"Support Vector Regressor (SVR)\": SVR(),\n",
    "    \"Random Forest Regressor\": RandomForestRegressor(n_estimators=100, random_state=42)\n",
    "}\n",
    "\n",
    "results = {}\n",
    "for name, model in models.items():\n",
    "    model.fit(X_train, y_train)\n",
    "    y_pred = model.predict(X_test)\n",
    "    \n",
    "    results[name] = {\n",
    "        \"MAE\": mean_absolute_error(y_test, y_pred),\n",
    "        \"RMSE\": np.sqrt(mean_squared_error(y_test, y_pred)),\n",
    "        \"R² Score\": r2_score(y_test, y_pred)\n",
    "    }\n",
    "\n",
    "\n",
    "results_df = pd.DataFrame(results).T\n",
    "print(\"--- Model Performance Comparison (with Elastic Net) ---\")\n",
    "print(results_df)"
   ]
  },
  {
   "cell_type": "code",
   "execution_count": 3,
   "id": "2b2cd532",
   "metadata": {
    "execution": {
     "iopub.execute_input": "2025-08-03T12:46:26.819898Z",
     "iopub.status.busy": "2025-08-03T12:46:26.819573Z",
     "iopub.status.idle": "2025-08-03T12:47:05.882098Z",
     "shell.execute_reply": "2025-08-03T12:47:05.881110Z"
    },
    "papermill": {
     "duration": 39.069163,
     "end_time": "2025-08-03T12:47:05.885621",
     "exception": false,
     "start_time": "2025-08-03T12:46:26.816458",
     "status": "completed"
    },
    "tags": []
   },
   "outputs": [
    {
     "name": "stdout",
     "output_type": "stream",
     "text": [
      "Fitting 5 folds for each of 54 candidates, totalling 270 fits\n",
      "Tuned R² Score: 0.06438477094962924\n"
     ]
    }
   ],
   "source": [
    "from sklearn.model_selection import GridSearchCV\n",
    "\n",
    "param_grid = {\n",
    "    'n_estimators': [100, 200, 300],\n",
    "    'max_depth': [5, 10, 15],\n",
    "    'min_samples_leaf': [2, 4, 6],\n",
    "    'max_features': ['sqrt', 'log2']\n",
    "}\n",
    "\n",
    "grid_search = GridSearchCV(estimator=RandomForestRegressor(random_state=42), \n",
    "                           param_grid=param_grid, \n",
    "                           cv=5, \n",
    "                           scoring='r2', \n",
    "                           n_jobs=-1, \n",
    "                           verbose=1)\n",
    "\n",
    "grid_search.fit(X_train, y_train)\n",
    "\n",
    "best_rf = grid_search.best_estimator_\n",
    "\n",
    "y_pred_tuned = best_rf.predict(X_test)\n",
    "print(f\"Tuned R² Score: {r2_score(y_test, y_pred_tuned)}\")"
   ]
  },
  {
   "cell_type": "code",
   "execution_count": 4,
   "id": "6f7e699a",
   "metadata": {
    "execution": {
     "iopub.execute_input": "2025-08-03T12:47:05.892302Z",
     "iopub.status.busy": "2025-08-03T12:47:05.891939Z",
     "iopub.status.idle": "2025-08-03T12:47:05.913869Z",
     "shell.execute_reply": "2025-08-03T12:47:05.912911Z"
    },
    "papermill": {
     "duration": 0.027435,
     "end_time": "2025-08-03T12:47:05.915638",
     "exception": false,
     "start_time": "2025-08-03T12:47:05.888203",
     "status": "completed"
    },
    "tags": []
   },
   "outputs": [],
   "source": [
    "import joblib\n",
    "from sklearn.base import BaseEstimator, TransformerMixin\n",
    "from sklearn.preprocessing import LabelEncoder\n",
    "from sklearn.pipeline import Pipeline\n",
    "from sklearn.ensemble import RandomForestRegressor\n",
    "\n",
    "class MentalHealthRegressionPreprocessor(BaseEstimator, TransformerMixin):\n",
    "    \"\"\"\n",
    "    A custom transformer for preprocessing the Mental Health in Tech Survey data for a regression task.\n",
    "    \n",
    "    Parameters:\n",
    "    ----------\n",
    "    target_col (str): The name of the target column to be predicted. This column, along with other\n",
    "                      unnecessary columns, will be dropped from the feature set.\n",
    "    \"\"\"\n",
    "    def __init__(self, target_col='Age'):\n",
    "        self.target_col = target_col\n",
    "\n",
    "    def fit(self, X, y=None):\n",
    "        \n",
    "        return self\n",
    "\n",
    "    def transform(self, X):\n",
    "        X = X.copy()\n",
    "\n",
    "        cols_to_drop = ['Timestamp', 'state', 'Country', 'comments', self.target_col]\n",
    "        X = X.drop(columns=[col for col in cols_to_drop if col in X.columns])\n",
    "\n",
    "        binary_map = {'Yes': 1, 'No': 0}\n",
    "        binary_cols = [\n",
    "            'self_employed', 'family_history', 'treatment', 'remote_work', 'tech_company', \n",
    "            'benefits', 'care_options', 'wellness_program', 'seek_help', \n",
    "            'anonymity', 'mental_health_consequence', 'phys_health_consequence', \n",
    "            'mental_health_interview', 'phys_health_interview', 'obs_consequence'\n",
    "        ]\n",
    "        for col in binary_cols:\n",
    "            if col in X.columns:\n",
    "                X[col] = X[col].map(binary_map).fillna(0)\n",
    "\n",
    "        trinary_map = {'Yes': 2, 'No': 0, \"Don't know\": 1, 'Some of them': 1, 'Not sure': 1, 'Maybe': 1}\n",
    "        trinary_cols = ['supervisor', 'coworkers', 'mental_vs_physical']\n",
    "        for col in trinary_cols:\n",
    "             if col in X.columns:\n",
    "                X[col] = X[col].map(trinary_map).fillna(1) # Fill NaNs with the neutral value (1)\n",
    "                \n",
    "        leave_map = {\n",
    "            'Very difficult': 0, 'Somewhat difficult': 1, \"Don't know\": 2,\n",
    "            'Somewhat easy': 3, 'Very easy': 4\n",
    "        }\n",
    "        if 'leave' in X.columns:\n",
    "            X['leave'] = X['leave'].map(leave_map).fillna(2) # Fill NaNs with the neutral value (2)\n",
    "\n",
    "        interfere_map = {\n",
    "            'Never': 0, 'Rarely': 1, 'Sometimes': 2, 'Often': 3\n",
    "        }\n",
    "        if 'work_interfere' in X.columns:\n",
    "            X['work_interfere'] = X['work_interfere'].map(interfere_map).fillna(2)\n",
    "\n",
    "        size_map = {\n",
    "            '1-5': 0, '6-25': 1, '26-100': 2,\n",
    "            '100-500': 3, '500-1000': 4, 'More than 1000': 5\n",
    "        }\n",
    "        if 'no_employees' in X.columns:\n",
    "            X['no_employees'] = X['no_employees'].map(size_map).fillna(2) # Fill NaNs with a medium size\n",
    "\n",
    "    \n",
    "        if 'Gender' in X.columns:\n",
    "            def clean_gender(gender):\n",
    "                if not isinstance(gender, str): \n",
    "                    return 'Other/Non-Binary'\n",
    "                g = gender.lower().strip()\n",
    "                if 'fem' in g or 'wom' in g or g == 'f':\n",
    "                    return 'Female'\n",
    "                elif 'mal' in g or 'man' in g or g == 'm' or 'guy' in g:\n",
    "                    return 'Male'\n",
    "                else:\n",
    "                    return 'Other/Non-Binary'\n",
    "            \n",
    "            X['Gender'] = X['Gender'].apply(clean_gender)\n",
    "            le = LabelEncoder()\n",
    "            X['Gender'] = le.fit_transform(X['Gender'])\n",
    "\n",
    "        return X"
   ]
  },
  {
   "cell_type": "code",
   "execution_count": 5,
   "id": "fa83e19e",
   "metadata": {
    "execution": {
     "iopub.execute_input": "2025-08-03T12:47:05.922522Z",
     "iopub.status.busy": "2025-08-03T12:47:05.921598Z",
     "iopub.status.idle": "2025-08-03T12:47:06.572721Z",
     "shell.execute_reply": "2025-08-03T12:47:06.571548Z"
    },
    "papermill": {
     "duration": 0.656279,
     "end_time": "2025-08-03T12:47:06.574500",
     "exception": false,
     "start_time": "2025-08-03T12:47:05.918221",
     "status": "completed"
    },
    "tags": []
   },
   "outputs": [
    {
     "name": "stdout",
     "output_type": "stream",
     "text": [
      "Training the regression model pipeline...\n",
      "Training complete.\n",
      "Regression pipeline saved to 'mental_health_reg_pipeline.pkl'\n"
     ]
    }
   ],
   "source": [
    "REGRESSION_TARGET = 'Age'\n",
    "\n",
    "try:\n",
    "    raw_df = pd.read_csv('/kaggle/input/mental-health-in-tech-survey/survey.csv')\n",
    "except FileNotFoundError:\n",
    "    print(\"Error: 'survey.csv' not found. Please download the dataset and place it in the correct directory.\")\n",
    "    exit()\n",
    "\n",
    "\n",
    "filtered_df = raw_df[(raw_df['Age'] >= 18) & (raw_df['Age'] <= 65)].copy()\n",
    "filtered_df.dropna(subset=[REGRESSION_TARGET], inplace=True)\n",
    "\n",
    "y_final_regression = filtered_df[REGRESSION_TARGET]\n",
    "    \n",
    "X_final_regression = filtered_df\n",
    "regression_deployment_pipeline = Pipeline(steps=[\n",
    "        ('preprocessing', MentalHealthRegressionPreprocessor(target_col=REGRESSION_TARGET)),\n",
    "        ('model', RandomForestRegressor(n_estimators=100, random_state=42))\n",
    "    ])\n",
    "print(\"Training the regression model pipeline...\")\n",
    "regression_deployment_pipeline.fit(X_final_regression, y_final_regression)\n",
    "print(\"Training complete.\")\n",
    "\n",
    "pipeline_filename = 'mental_health_reg_pipeline.pkl'\n",
    "joblib.dump(regression_deployment_pipeline, pipeline_filename)\n",
    "print(f\"Regression pipeline saved to '{pipeline_filename}'\")"
   ]
  },
  {
   "cell_type": "code",
   "execution_count": null,
   "id": "3958b8ba",
   "metadata": {
    "papermill": {
     "duration": 0.002212,
     "end_time": "2025-08-03T12:47:06.579376",
     "exception": false,
     "start_time": "2025-08-03T12:47:06.577164",
     "status": "completed"
    },
    "tags": []
   },
   "outputs": [],
   "source": []
  }
 ],
 "metadata": {
  "kaggle": {
   "accelerator": "none",
   "dataSources": [
    {
     "datasetId": 311,
     "sourceId": 673,
     "sourceType": "datasetVersion"
    },
    {
     "datasetId": 7936629,
     "sourceId": 12567754,
     "sourceType": "datasetVersion"
    }
   ],
   "dockerImageVersionId": 31089,
   "isGpuEnabled": false,
   "isInternetEnabled": true,
   "language": "python",
   "sourceType": "notebook"
  },
  "kernelspec": {
   "display_name": "Python 3",
   "language": "python",
   "name": "python3"
  },
  "language_info": {
   "codemirror_mode": {
    "name": "ipython",
    "version": 3
   },
   "file_extension": ".py",
   "mimetype": "text/x-python",
   "name": "python",
   "nbconvert_exporter": "python",
   "pygments_lexer": "ipython3",
   "version": "3.11.13"
  },
  "papermill": {
   "default_parameters": {},
   "duration": 53.24615,
   "end_time": "2025-08-03T12:47:09.201296",
   "environment_variables": {},
   "exception": null,
   "input_path": "__notebook__.ipynb",
   "output_path": "__notebook__.ipynb",
   "parameters": {},
   "start_time": "2025-08-03T12:46:15.955146",
   "version": "2.6.0"
  }
 },
 "nbformat": 4,
 "nbformat_minor": 5
}
