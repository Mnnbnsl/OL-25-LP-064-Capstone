{
 "cells": [
  {
   "cell_type": "code",
   "execution_count": 1,
   "id": "048351ff",
   "metadata": {
    "_cell_guid": "b1076dfc-b9ad-4769-8c92-a6c4dae69d19",
    "_uuid": "8f2839f25d086af736a60e9eeb907d3b93b6e0e5",
    "execution": {
     "iopub.execute_input": "2025-07-24T11:18:05.952241Z",
     "iopub.status.busy": "2025-07-24T11:18:05.951927Z",
     "iopub.status.idle": "2025-07-24T11:18:09.775926Z",
     "shell.execute_reply": "2025-07-24T11:18:09.774920Z"
    },
    "papermill": {
     "duration": 3.830215,
     "end_time": "2025-07-24T11:18:09.777398",
     "exception": false,
     "start_time": "2025-07-24T11:18:05.947183",
     "status": "completed"
    },
    "tags": []
   },
   "outputs": [
    {
     "name": "stdout",
     "output_type": "stream",
     "text": [
      "DataFrame loaded\n"
     ]
    }
   ],
   "source": [
    "import numpy as np\n",
    "import pandas as pd\n",
    "import matplotlib.pyplot as plt\n",
    "import seaborn as sns\n",
    "\n",
    "df = pd.read_csv('/kaggle/input/mental-health-in-tech-survey/survey.csv')\n",
    "print(\"DataFrame loaded\")"
   ]
  },
  {
   "cell_type": "code",
   "execution_count": 2,
   "id": "98093d96",
   "metadata": {
    "execution": {
     "iopub.execute_input": "2025-07-24T11:18:09.784931Z",
     "iopub.status.busy": "2025-07-24T11:18:09.784567Z",
     "iopub.status.idle": "2025-07-24T11:18:09.839851Z",
     "shell.execute_reply": "2025-07-24T11:18:09.838990Z"
    },
    "papermill": {
     "duration": 0.061079,
     "end_time": "2025-07-24T11:18:09.841715",
     "exception": false,
     "start_time": "2025-07-24T11:18:09.780636",
     "status": "completed"
    },
    "tags": []
   },
   "outputs": [
    {
     "name": "stdout",
     "output_type": "stream",
     "text": [
      "Shape : (1259, 27)\n",
      "<class 'pandas.core.frame.DataFrame'>\n",
      "RangeIndex: 1259 entries, 0 to 1258\n",
      "Data columns (total 27 columns):\n",
      " #   Column                     Non-Null Count  Dtype \n",
      "---  ------                     --------------  ----- \n",
      " 0   Timestamp                  1259 non-null   object\n",
      " 1   Age                        1259 non-null   int64 \n",
      " 2   Gender                     1259 non-null   object\n",
      " 3   Country                    1259 non-null   object\n",
      " 4   state                      744 non-null    object\n",
      " 5   self_employed              1241 non-null   object\n",
      " 6   family_history             1259 non-null   object\n",
      " 7   treatment                  1259 non-null   object\n",
      " 8   work_interfere             995 non-null    object\n",
      " 9   no_employees               1259 non-null   object\n",
      " 10  remote_work                1259 non-null   object\n",
      " 11  tech_company               1259 non-null   object\n",
      " 12  benefits                   1259 non-null   object\n",
      " 13  care_options               1259 non-null   object\n",
      " 14  wellness_program           1259 non-null   object\n",
      " 15  seek_help                  1259 non-null   object\n",
      " 16  anonymity                  1259 non-null   object\n",
      " 17  leave                      1259 non-null   object\n",
      " 18  mental_health_consequence  1259 non-null   object\n",
      " 19  phys_health_consequence    1259 non-null   object\n",
      " 20  coworkers                  1259 non-null   object\n",
      " 21  supervisor                 1259 non-null   object\n",
      " 22  mental_health_interview    1259 non-null   object\n",
      " 23  phys_health_interview      1259 non-null   object\n",
      " 24  mental_vs_physical         1259 non-null   object\n",
      " 25  obs_consequence            1259 non-null   object\n",
      " 26  comments                   164 non-null    object\n",
      "dtypes: int64(1), object(26)\n",
      "memory usage: 265.7+ KB\n",
      "Info : None\n",
      "Head : <bound method NDFrame.head of                 Timestamp  Age  Gender         Country state self_employed  \\\n",
      "0     2014-08-27 11:29:31   37  Female   United States    IL           NaN   \n",
      "1     2014-08-27 11:29:37   44       M   United States    IN           NaN   \n",
      "2     2014-08-27 11:29:44   32    Male          Canada   NaN           NaN   \n",
      "3     2014-08-27 11:29:46   31    Male  United Kingdom   NaN           NaN   \n",
      "4     2014-08-27 11:30:22   31    Male   United States    TX           NaN   \n",
      "...                   ...  ...     ...             ...   ...           ...   \n",
      "1254  2015-09-12 11:17:21   26    male  United Kingdom   NaN            No   \n",
      "1255  2015-09-26 01:07:35   32    Male   United States    IL            No   \n",
      "1256  2015-11-07 12:36:58   34    male   United States    CA            No   \n",
      "1257  2015-11-30 21:25:06   46       f   United States    NC            No   \n",
      "1258  2016-02-01 23:04:31   25    Male   United States    IL            No   \n",
      "\n",
      "     family_history treatment work_interfere    no_employees  ...  \\\n",
      "0                No       Yes          Often            6-25  ...   \n",
      "1                No        No         Rarely  More than 1000  ...   \n",
      "2                No        No         Rarely            6-25  ...   \n",
      "3               Yes       Yes          Often          26-100  ...   \n",
      "4                No        No          Never         100-500  ...   \n",
      "...             ...       ...            ...             ...  ...   \n",
      "1254             No       Yes            NaN          26-100  ...   \n",
      "1255            Yes       Yes          Often          26-100  ...   \n",
      "1256            Yes       Yes      Sometimes  More than 1000  ...   \n",
      "1257             No        No            NaN         100-500  ...   \n",
      "1258            Yes       Yes      Sometimes          26-100  ...   \n",
      "\n",
      "                   leave mental_health_consequence phys_health_consequence  \\\n",
      "0          Somewhat easy                        No                      No   \n",
      "1             Don't know                     Maybe                      No   \n",
      "2     Somewhat difficult                        No                      No   \n",
      "3     Somewhat difficult                       Yes                     Yes   \n",
      "4             Don't know                        No                      No   \n",
      "...                  ...                       ...                     ...   \n",
      "1254       Somewhat easy                        No                      No   \n",
      "1255  Somewhat difficult                        No                      No   \n",
      "1256  Somewhat difficult                       Yes                     Yes   \n",
      "1257          Don't know                       Yes                      No   \n",
      "1258          Don't know                     Maybe                      No   \n",
      "\n",
      "         coworkers    supervisor mental_health_interview  \\\n",
      "0     Some of them           Yes                      No   \n",
      "1               No            No                      No   \n",
      "2              Yes           Yes                     Yes   \n",
      "3     Some of them            No                   Maybe   \n",
      "4     Some of them           Yes                     Yes   \n",
      "...            ...           ...                     ...   \n",
      "1254  Some of them  Some of them                      No   \n",
      "1255  Some of them           Yes                      No   \n",
      "1256            No            No                      No   \n",
      "1257            No            No                      No   \n",
      "1258  Some of them            No                      No   \n",
      "\n",
      "     phys_health_interview mental_vs_physical obs_consequence comments  \n",
      "0                    Maybe                Yes              No      NaN  \n",
      "1                       No         Don't know              No      NaN  \n",
      "2                      Yes                 No              No      NaN  \n",
      "3                    Maybe                 No             Yes      NaN  \n",
      "4                      Yes         Don't know              No      NaN  \n",
      "...                    ...                ...             ...      ...  \n",
      "1254                    No         Don't know              No      NaN  \n",
      "1255                    No                Yes              No      NaN  \n",
      "1256                    No                 No              No      NaN  \n",
      "1257                    No                 No              No      NaN  \n",
      "1258                    No         Don't know              No      NaN  \n",
      "\n",
      "[1259 rows x 27 columns]>\n",
      "Describe :                 Age\n",
      "count  1.259000e+03\n",
      "mean   7.942815e+07\n",
      "std    2.818299e+09\n",
      "min   -1.726000e+03\n",
      "25%    2.700000e+01\n",
      "50%    3.100000e+01\n",
      "75%    3.600000e+01\n",
      "max    1.000000e+11\n"
     ]
    }
   ],
   "source": [
    "print(f'Shape : {df.shape}')\n",
    "print(f'Info : {df.info()}')\n",
    "print(f'Head : {df.head}')\n",
    "print(f'Describe : {df.describe()}')"
   ]
  },
  {
   "cell_type": "code",
   "execution_count": 3,
   "id": "dc7b5518",
   "metadata": {
    "execution": {
     "iopub.execute_input": "2025-07-24T11:18:09.849642Z",
     "iopub.status.busy": "2025-07-24T11:18:09.849308Z",
     "iopub.status.idle": "2025-07-24T11:18:09.857562Z",
     "shell.execute_reply": "2025-07-24T11:18:09.856389Z"
    },
    "papermill": {
     "duration": 0.014369,
     "end_time": "2025-07-24T11:18:09.859537",
     "exception": false,
     "start_time": "2025-07-24T11:18:09.845168",
     "status": "completed"
    },
    "tags": []
   },
   "outputs": [
    {
     "name": "stdout",
     "output_type": "stream",
     "text": [
      "Total missing values : Timestamp                       0\n",
      "Age                             0\n",
      "Gender                          0\n",
      "Country                         0\n",
      "state                         515\n",
      "self_employed                  18\n",
      "family_history                  0\n",
      "treatment                       0\n",
      "work_interfere                264\n",
      "no_employees                    0\n",
      "remote_work                     0\n",
      "tech_company                    0\n",
      "benefits                        0\n",
      "care_options                    0\n",
      "wellness_program                0\n",
      "seek_help                       0\n",
      "anonymity                       0\n",
      "leave                           0\n",
      "mental_health_consequence       0\n",
      "phys_health_consequence         0\n",
      "coworkers                       0\n",
      "supervisor                      0\n",
      "mental_health_interview         0\n",
      "phys_health_interview           0\n",
      "mental_vs_physical              0\n",
      "obs_consequence                 0\n",
      "comments                     1095\n",
      "dtype: int64\n"
     ]
    }
   ],
   "source": [
    "print(f'Total missing values : {df.isnull().sum()}')"
   ]
  },
  {
   "cell_type": "code",
   "execution_count": 4,
   "id": "f9e1f5af",
   "metadata": {
    "execution": {
     "iopub.execute_input": "2025-07-24T11:18:09.868025Z",
     "iopub.status.busy": "2025-07-24T11:18:09.867160Z",
     "iopub.status.idle": "2025-07-24T11:18:09.873478Z",
     "shell.execute_reply": "2025-07-24T11:18:09.872604Z"
    },
    "papermill": {
     "duration": 0.011788,
     "end_time": "2025-07-24T11:18:09.874727",
     "exception": false,
     "start_time": "2025-07-24T11:18:09.862939",
     "status": "completed"
    },
    "tags": []
   },
   "outputs": [
    {
     "name": "stdout",
     "output_type": "stream",
     "text": [
      "shape : (1259, 25)\n"
     ]
    }
   ],
   "source": [
    "drop_columns = [\"comments\", \"Timestamp\"]\n",
    "df.drop(columns = drop_columns, inplace = True)\n",
    "print(f\"shape : {df.shape}\")"
   ]
  },
  {
   "cell_type": "code",
   "execution_count": 5,
   "id": "f9da34d4",
   "metadata": {
    "execution": {
     "iopub.execute_input": "2025-07-24T11:18:09.882523Z",
     "iopub.status.busy": "2025-07-24T11:18:09.881974Z",
     "iopub.status.idle": "2025-07-24T11:18:09.889193Z",
     "shell.execute_reply": "2025-07-24T11:18:09.888185Z"
    },
    "papermill": {
     "duration": 0.012656,
     "end_time": "2025-07-24T11:18:09.890666",
     "exception": false,
     "start_time": "2025-07-24T11:18:09.878010",
     "status": "completed"
    },
    "tags": []
   },
   "outputs": [
    {
     "name": "stdout",
     "output_type": "stream",
     "text": [
      "shape : (1250, 25)\n"
     ]
    }
   ],
   "source": [
    "# Clean Age outliers\n",
    "df = df[(df['Age'] >= 18) & (df['Age'] <= 65)]\n",
    "print(f'shape : {df.shape}')"
   ]
  },
  {
   "cell_type": "code",
   "execution_count": 6,
   "id": "9250ad46",
   "metadata": {
    "execution": {
     "iopub.execute_input": "2025-07-24T11:18:09.898251Z",
     "iopub.status.busy": "2025-07-24T11:18:09.897962Z",
     "iopub.status.idle": "2025-07-24T11:18:09.906806Z",
     "shell.execute_reply": "2025-07-24T11:18:09.905751Z"
    },
    "papermill": {
     "duration": 0.014137,
     "end_time": "2025-07-24T11:18:09.908214",
     "exception": false,
     "start_time": "2025-07-24T11:18:09.894077",
     "status": "completed"
    },
    "tags": []
   },
   "outputs": [
    {
     "name": "stdout",
     "output_type": "stream",
     "text": [
      "Gender\n",
      "Male                983\n",
      "Female              250\n",
      "Other/Non-Binary     17\n",
      "Name: count, dtype: int64\n"
     ]
    }
   ],
   "source": [
    "# Fix Gender column\n",
    "# instead of keeping many entries we will classify them in 'male', 'female' and 'other/non-binary'\n",
    "\n",
    "def clean_gender(gender):\n",
    "    if not isinstance(gender, str): \n",
    "        return 'Other/Non-Binary'\n",
    "    g = gender.lower()\n",
    "    if 'fem' in g or 'wom' in g or g == 'f':\n",
    "        return 'Female'\n",
    "    elif 'mal' in g or 'man' in g or g == 'm' or 'guy' in g:\n",
    "        return 'Male'\n",
    "    else :\n",
    "        return 'Other/Non-Binary'\n",
    "df['Gender'] = df['Gender'].apply(clean_gender)\n",
    "print(df['Gender'].value_counts())"
   ]
  },
  {
   "cell_type": "code",
   "execution_count": 7,
   "id": "cb113297",
   "metadata": {
    "execution": {
     "iopub.execute_input": "2025-07-24T11:18:09.916778Z",
     "iopub.status.busy": "2025-07-24T11:18:09.915953Z",
     "iopub.status.idle": "2025-07-24T11:18:10.205134Z",
     "shell.execute_reply": "2025-07-24T11:18:10.204274Z"
    },
    "papermill": {
     "duration": 0.295137,
     "end_time": "2025-07-24T11:18:10.206837",
     "exception": false,
     "start_time": "2025-07-24T11:18:09.911700",
     "status": "completed"
    },
    "tags": []
   },
   "outputs": [],
   "source": [
    "# Let us now encode our features to better suit them for modelling and seeing the corrleation between them\n",
    "from sklearn.preprocessing import LabelEncoder\n",
    "leave_map = {'Very easy': 4, 'Somewhat easy': 3, \"Don't know\": 2, 'Somewhat difficult': 1, 'Very difficult': 0}\n",
    "df['leave'] = df['leave'].map(leave_map)\n",
    "\n",
    "work_interfere_map = {'Never': 0, 'Rarely': 1, 'Sometimes': 2, 'Often': 3}\n",
    "df['work_interfere'] = df['work_interfere'].map(work_interfere_map)\n",
    "\n",
    "no_employees_map = {'1-5': 0, '6-25': 1, '26-100': 2, '100-500': 3, '500-1000': 4, 'More than 1000': 5}\n",
    "df['no_employees'] = df['no_employees'].map(no_employees_map)\n",
    "\n",
    "trinary_map = {'No': 0, 'Maybe': 1, \"Don't know\": 1, 'Not sure': 1, 'Some of them': 1, 'Yes': 2}\n",
    "trinary_cols = [\n",
    "    'benefits', 'care_options', 'wellness_program', 'seek_help', 'anonymity',\n",
    "    'mental_health_consequence', 'phys_health_consequence', 'coworkers', 'supervisor',\n",
    "    'mental_health_interview', 'phys_health_interview', 'mental_vs_physical'\n",
    "]\n",
    "for col in trinary_cols:\n",
    "    df[col] = df[col].map(trinary_map)\n",
    "\n",
    "binary_map = {'No': 0, 'Yes': 1}\n",
    "binary_cols = [\n",
    "    'self_employed', 'family_history', 'treatment', 'remote_work', \n",
    "    'tech_company', 'obs_consequence'\n",
    "]\n",
    "for col in binary_cols:\n",
    "    df[col] = df[col].map(binary_map)\n",
    "\n",
    "\n"
   ]
  },
  {
   "cell_type": "code",
   "execution_count": 8,
   "id": "79bb7112",
   "metadata": {
    "execution": {
     "iopub.execute_input": "2025-07-24T11:18:10.214591Z",
     "iopub.status.busy": "2025-07-24T11:18:10.214262Z",
     "iopub.status.idle": "2025-07-24T11:18:10.229809Z",
     "shell.execute_reply": "2025-07-24T11:18:10.228994Z"
    },
    "papermill": {
     "duration": 0.021813,
     "end_time": "2025-07-24T11:18:10.232008",
     "exception": false,
     "start_time": "2025-07-24T11:18:10.210195",
     "status": "completed"
    },
    "tags": []
   },
   "outputs": [
    {
     "name": "stdout",
     "output_type": "stream",
     "text": [
      "<bound method NDFrame.head of       Age  Gender         Country state  self_employed  family_history  \\\n",
      "0      37  Female   United States    IL            NaN               0   \n",
      "1      44    Male   United States    IN            NaN               0   \n",
      "2      32    Male          Canada   NaN            NaN               0   \n",
      "3      31    Male  United Kingdom   NaN            NaN               1   \n",
      "4      31    Male   United States    TX            NaN               0   \n",
      "...   ...     ...             ...   ...            ...             ...   \n",
      "1254   26    Male  United Kingdom   NaN            0.0               0   \n",
      "1255   32    Male   United States    IL            0.0               1   \n",
      "1256   34    Male   United States    CA            0.0               1   \n",
      "1257   46  Female   United States    NC            0.0               0   \n",
      "1258   25    Male   United States    IL            0.0               1   \n",
      "\n",
      "      treatment  work_interfere  no_employees  remote_work  ...  anonymity  \\\n",
      "0             1             3.0             1            0  ...          2   \n",
      "1             0             1.0             5            0  ...          1   \n",
      "2             0             1.0             1            0  ...          1   \n",
      "3             1             3.0             2            0  ...          0   \n",
      "4             0             0.0             3            1  ...          1   \n",
      "...         ...             ...           ...          ...  ...        ...   \n",
      "1254          1             NaN             2            0  ...          1   \n",
      "1255          1             3.0             2            1  ...          2   \n",
      "1256          1             2.0             5            0  ...          1   \n",
      "1257          0             NaN             3            1  ...          1   \n",
      "1258          1             2.0             2            0  ...          2   \n",
      "\n",
      "      leave  mental_health_consequence  phys_health_consequence  coworkers  \\\n",
      "0         3                          0                        0          1   \n",
      "1         2                          1                        0          0   \n",
      "2         1                          0                        0          2   \n",
      "3         1                          2                        2          1   \n",
      "4         2                          0                        0          1   \n",
      "...     ...                        ...                      ...        ...   \n",
      "1254      3                          0                        0          1   \n",
      "1255      1                          0                        0          1   \n",
      "1256      1                          2                        2          0   \n",
      "1257      2                          2                        0          0   \n",
      "1258      2                          1                        0          1   \n",
      "\n",
      "      supervisor  mental_health_interview  phys_health_interview  \\\n",
      "0              2                        0                      1   \n",
      "1              0                        0                      0   \n",
      "2              2                        2                      2   \n",
      "3              0                        1                      1   \n",
      "4              2                        2                      2   \n",
      "...          ...                      ...                    ...   \n",
      "1254           1                        0                      0   \n",
      "1255           2                        0                      0   \n",
      "1256           0                        0                      0   \n",
      "1257           0                        0                      0   \n",
      "1258           0                        0                      0   \n",
      "\n",
      "      mental_vs_physical  obs_consequence  \n",
      "0                      2                0  \n",
      "1                      1                0  \n",
      "2                      0                0  \n",
      "3                      0                1  \n",
      "4                      1                0  \n",
      "...                  ...              ...  \n",
      "1254                   1                0  \n",
      "1255                   2                0  \n",
      "1256                   0                0  \n",
      "1257                   0                0  \n",
      "1258                   1                0  \n",
      "\n",
      "[1250 rows x 25 columns]>\n"
     ]
    },
    {
     "name": "stderr",
     "output_type": "stream",
     "text": [
      "/usr/local/lib/python3.11/dist-packages/pandas/io/formats/format.py:1458: RuntimeWarning: invalid value encountered in greater\n",
      "  has_large_values = (abs_vals > 1e6).any()\n",
      "/usr/local/lib/python3.11/dist-packages/pandas/io/formats/format.py:1459: RuntimeWarning: invalid value encountered in less\n",
      "  has_small_values = ((abs_vals < 10 ** (-self.digits)) & (abs_vals > 0)).any()\n",
      "/usr/local/lib/python3.11/dist-packages/pandas/io/formats/format.py:1459: RuntimeWarning: invalid value encountered in greater\n",
      "  has_small_values = ((abs_vals < 10 ** (-self.digits)) & (abs_vals > 0)).any()\n"
     ]
    }
   ],
   "source": [
    "print(df.head)"
   ]
  },
  {
   "cell_type": "code",
   "execution_count": 9,
   "id": "b74502ec",
   "metadata": {
    "execution": {
     "iopub.execute_input": "2025-07-24T11:18:10.241438Z",
     "iopub.status.busy": "2025-07-24T11:18:10.240695Z",
     "iopub.status.idle": "2025-07-24T11:18:10.284835Z",
     "shell.execute_reply": "2025-07-24T11:18:10.283864Z"
    },
    "papermill": {
     "duration": 0.050464,
     "end_time": "2025-07-24T11:18:10.286286",
     "exception": false,
     "start_time": "2025-07-24T11:18:10.235822",
     "status": "completed"
    },
    "tags": []
   },
   "outputs": [
    {
     "name": "stdout",
     "output_type": "stream",
     "text": [
      "   benefits  wellness_program  seek_help  anonymity  care_options  leave  \\\n",
      "0         2                 0          2          2             1      3   \n",
      "1         1                 1          1          1             0      2   \n",
      "2         0                 0          0          1             0      1   \n",
      "3         0                 0          0          0             2      1   \n",
      "4         2                 1          1          1             0      2   \n",
      "\n",
      "   support_score  \n",
      "0              8  \n",
      "1              4  \n",
      "2              0  \n",
      "3              0  \n",
      "4              5  \n"
     ]
    }
   ],
   "source": [
    "# Let us make a new column which can combine all the company policies in a single feature \"support_score\"\n",
    "\n",
    "def calculate_support_score(row):\n",
    "    \"\"\"\n",
    "    This function calculates a support score for a single row\n",
    "    based on a predefined scoring system.\n",
    "    \"\"\"\n",
    "    score = 0\n",
    "    \n",
    "    # Scoring for 'benefits'\n",
    "    if row['benefits'] == 2:\n",
    "        score += 2\n",
    "    elif row['benefits'] == 1:\n",
    "        score += 1\n",
    "        \n",
    "    # Scoring for 'wellness_program'\n",
    "    if row['wellness_program'] == 2:\n",
    "        score += 2\n",
    "    elif row['wellness_program'] == 1:\n",
    "        score += 1\n",
    "\n",
    "    # Scoring for 'seek_help'\n",
    "    if row['seek_help'] == 2:\n",
    "        score += 2\n",
    "    elif row['seek_help'] == 1:\n",
    "        score += 1\n",
    "\n",
    "    # Scoring for 'anonymity'\n",
    "    if row['anonymity'] == 2:\n",
    "        score += 2\n",
    "    elif row['anonymity'] == 1:\n",
    "        score += 1\n",
    "        \n",
    "    # Scoring for 'care_options'\n",
    "    if row['care_options'] == 2:\n",
    "        score += 1\n",
    "\n",
    "    # Scoring for 'leave'\n",
    "    if row['leave'] == 4:\n",
    "        score += 3\n",
    "    elif row['leave'] == 3:\n",
    "        score += 2\n",
    "    elif row['leave'] == 1:\n",
    "        score -= 1\n",
    "    elif row['leave'] == 0:\n",
    "        score -= 2\n",
    "        \n",
    "    return score\n",
    "\n",
    "# Apply the function to each row (axis=1) to create the new column\n",
    "df['support_score'] = df.apply(calculate_support_score, axis=1)\n",
    "\n",
    "# Display the new column alongside the original features to verify\n",
    "print(df[['benefits', 'wellness_program','seek_help','anonymity','care_options', 'leave', 'support_score']].head())"
   ]
  },
  {
   "cell_type": "code",
   "execution_count": 10,
   "id": "cdbe339b",
   "metadata": {
    "execution": {
     "iopub.execute_input": "2025-07-24T11:18:10.295088Z",
     "iopub.status.busy": "2025-07-24T11:18:10.294731Z",
     "iopub.status.idle": "2025-07-24T11:18:10.300173Z",
     "shell.execute_reply": "2025-07-24T11:18:10.299005Z"
    },
    "papermill": {
     "duration": 0.011639,
     "end_time": "2025-07-24T11:18:10.301670",
     "exception": false,
     "start_time": "2025-07-24T11:18:10.290031",
     "status": "completed"
    },
    "tags": []
   },
   "outputs": [
    {
     "name": "stdout",
     "output_type": "stream",
     "text": [
      "(1250, 26)\n"
     ]
    }
   ],
   "source": [
    "print(df.shape)"
   ]
  },
  {
   "cell_type": "code",
   "execution_count": 11,
   "id": "cdb5e7c8",
   "metadata": {
    "execution": {
     "iopub.execute_input": "2025-07-24T11:18:10.311208Z",
     "iopub.status.busy": "2025-07-24T11:18:10.310436Z",
     "iopub.status.idle": "2025-07-24T11:18:10.329972Z",
     "shell.execute_reply": "2025-07-24T11:18:10.328950Z"
    },
    "papermill": {
     "duration": 0.02601,
     "end_time": "2025-07-24T11:18:10.331689",
     "exception": false,
     "start_time": "2025-07-24T11:18:10.305679",
     "status": "completed"
    },
    "tags": []
   },
   "outputs": [
    {
     "name": "stdout",
     "output_type": "stream",
     "text": [
      "Dataframe saved\n"
     ]
    }
   ],
   "source": [
    "df.to_csv('preprocessed_df_capstone.csv', index = False)\n",
    "print(\"Dataframe saved\")"
   ]
  },
  {
   "cell_type": "code",
   "execution_count": 12,
   "id": "7f577857",
   "metadata": {
    "execution": {
     "iopub.execute_input": "2025-07-24T11:18:10.340463Z",
     "iopub.status.busy": "2025-07-24T11:18:10.340119Z",
     "iopub.status.idle": "2025-07-24T11:18:10.353829Z",
     "shell.execute_reply": "2025-07-24T11:18:10.352801Z"
    },
    "papermill": {
     "duration": 0.019793,
     "end_time": "2025-07-24T11:18:10.355376",
     "exception": false,
     "start_time": "2025-07-24T11:18:10.335583",
     "status": "completed"
    },
    "tags": []
   },
   "outputs": [
    {
     "name": "stdout",
     "output_type": "stream",
     "text": [
      "<bound method DataFrame.info of       Age  Gender         Country state  self_employed  family_history  \\\n",
      "0      37  Female   United States    IL            NaN               0   \n",
      "1      44    Male   United States    IN            NaN               0   \n",
      "2      32    Male          Canada   NaN            NaN               0   \n",
      "3      31    Male  United Kingdom   NaN            NaN               1   \n",
      "4      31    Male   United States    TX            NaN               0   \n",
      "...   ...     ...             ...   ...            ...             ...   \n",
      "1254   26    Male  United Kingdom   NaN            0.0               0   \n",
      "1255   32    Male   United States    IL            0.0               1   \n",
      "1256   34    Male   United States    CA            0.0               1   \n",
      "1257   46  Female   United States    NC            0.0               0   \n",
      "1258   25    Male   United States    IL            0.0               1   \n",
      "\n",
      "      treatment  work_interfere  no_employees  remote_work  ...  leave  \\\n",
      "0             1             3.0             1            0  ...      3   \n",
      "1             0             1.0             5            0  ...      2   \n",
      "2             0             1.0             1            0  ...      1   \n",
      "3             1             3.0             2            0  ...      1   \n",
      "4             0             0.0             3            1  ...      2   \n",
      "...         ...             ...           ...          ...  ...    ...   \n",
      "1254          1             NaN             2            0  ...      3   \n",
      "1255          1             3.0             2            1  ...      1   \n",
      "1256          1             2.0             5            0  ...      1   \n",
      "1257          0             NaN             3            1  ...      2   \n",
      "1258          1             2.0             2            0  ...      2   \n",
      "\n",
      "      mental_health_consequence  phys_health_consequence  coworkers  \\\n",
      "0                             0                        0          1   \n",
      "1                             1                        0          0   \n",
      "2                             0                        0          2   \n",
      "3                             2                        2          1   \n",
      "4                             0                        0          1   \n",
      "...                         ...                      ...        ...   \n",
      "1254                          0                        0          1   \n",
      "1255                          0                        0          1   \n",
      "1256                          2                        2          0   \n",
      "1257                          2                        0          0   \n",
      "1258                          1                        0          1   \n",
      "\n",
      "      supervisor  mental_health_interview  phys_health_interview  \\\n",
      "0              2                        0                      1   \n",
      "1              0                        0                      0   \n",
      "2              2                        2                      2   \n",
      "3              0                        1                      1   \n",
      "4              2                        2                      2   \n",
      "...          ...                      ...                    ...   \n",
      "1254           1                        0                      0   \n",
      "1255           2                        0                      0   \n",
      "1256           0                        0                      0   \n",
      "1257           0                        0                      0   \n",
      "1258           0                        0                      0   \n",
      "\n",
      "      mental_vs_physical  obs_consequence  support_score  \n",
      "0                      2                0              8  \n",
      "1                      1                0              4  \n",
      "2                      0                0              0  \n",
      "3                      0                1              0  \n",
      "4                      1                0              5  \n",
      "...                  ...              ...            ...  \n",
      "1254                   1                0              3  \n",
      "1255                   2                0              4  \n",
      "1256                   0                0              3  \n",
      "1257                   0                0              2  \n",
      "1258                   1                0              5  \n",
      "\n",
      "[1250 rows x 26 columns]>\n"
     ]
    },
    {
     "name": "stderr",
     "output_type": "stream",
     "text": [
      "/usr/local/lib/python3.11/dist-packages/pandas/io/formats/format.py:1458: RuntimeWarning: invalid value encountered in greater\n",
      "  has_large_values = (abs_vals > 1e6).any()\n",
      "/usr/local/lib/python3.11/dist-packages/pandas/io/formats/format.py:1459: RuntimeWarning: invalid value encountered in less\n",
      "  has_small_values = ((abs_vals < 10 ** (-self.digits)) & (abs_vals > 0)).any()\n",
      "/usr/local/lib/python3.11/dist-packages/pandas/io/formats/format.py:1459: RuntimeWarning: invalid value encountered in greater\n",
      "  has_small_values = ((abs_vals < 10 ** (-self.digits)) & (abs_vals > 0)).any()\n"
     ]
    }
   ],
   "source": [
    "print(df.info)"
   ]
  },
  {
   "cell_type": "code",
   "execution_count": null,
   "id": "63368b83",
   "metadata": {
    "papermill": {
     "duration": 0.004418,
     "end_time": "2025-07-24T11:18:10.363642",
     "exception": false,
     "start_time": "2025-07-24T11:18:10.359224",
     "status": "completed"
    },
    "tags": []
   },
   "outputs": [],
   "source": []
  }
 ],
 "metadata": {
  "kaggle": {
   "accelerator": "none",
   "dataSources": [
    {
     "datasetId": 311,
     "sourceId": 673,
     "sourceType": "datasetVersion"
    }
   ],
   "dockerImageVersionId": 31089,
   "isGpuEnabled": false,
   "isInternetEnabled": true,
   "language": "python",
   "sourceType": "notebook"
  },
  "kernelspec": {
   "display_name": "Python 3",
   "language": "python",
   "name": "python3"
  },
  "language_info": {
   "codemirror_mode": {
    "name": "ipython",
    "version": 3
   },
   "file_extension": ".py",
   "mimetype": "text/x-python",
   "name": "python",
   "nbconvert_exporter": "python",
   "pygments_lexer": "ipython3",
   "version": "3.11.13"
  },
  "papermill": {
   "default_parameters": {},
   "duration": 10.026817,
   "end_time": "2025-07-24T11:18:11.088208",
   "environment_variables": {},
   "exception": null,
   "input_path": "__notebook__.ipynb",
   "output_path": "__notebook__.ipynb",
   "parameters": {},
   "start_time": "2025-07-24T11:18:01.061391",
   "version": "2.6.0"
  }
 },
 "nbformat": 4,
 "nbformat_minor": 5
}
